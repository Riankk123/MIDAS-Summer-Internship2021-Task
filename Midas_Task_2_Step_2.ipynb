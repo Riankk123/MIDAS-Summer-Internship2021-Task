{
  "nbformat": 4,
  "nbformat_minor": 0,
  "metadata": {
    "colab": {
      "name": "Midas_Task_2_Step_2.ipynb",
      "provenance": []
    },
    "kernelspec": {
      "name": "python3",
      "display_name": "Python 3"
    },
    "language_info": {
      "name": "python"
    }
  },
  "cells": [
    {
      "cell_type": "markdown",
      "metadata": {
        "id": "BkyOkTS1JiXo"
      },
      "source": [
        "# Task 2 for MIDAS Summer Internship"
      ]
    },
    {
      "cell_type": "markdown",
      "metadata": {
        "id": "CAxdVQgDONwt"
      },
      "source": [
        "# Second Step"
      ]
    },
    {
      "cell_type": "markdown",
      "metadata": {
        "id": "AJX0Bg5LOFB9"
      },
      "source": [
        "## Importing the Necessary Libraries "
      ]
    },
    {
      "cell_type": "code",
      "metadata": {
        "colab": {
          "base_uri": "https://localhost:8080/"
        },
        "id": "3T3vH0pLKWmW",
        "outputId": "b9ceacd1-0415-4fe4-89db-ac0a6c4f91c5"
      },
      "source": [
        "pip install idx2numpy"
      ],
      "execution_count": null,
      "outputs": [
        {
          "output_type": "stream",
          "text": [
            "Collecting idx2numpy\n",
            "  Downloading https://files.pythonhosted.org/packages/7e/6b/80628f6cc2f44d80b27f1ef7b57b257ed4c73766113b77d13ad110c091b4/idx2numpy-1.2.3.tar.gz\n",
            "Requirement already satisfied: numpy in /usr/local/lib/python3.7/dist-packages (from idx2numpy) (1.19.5)\n",
            "Requirement already satisfied: six in /usr/local/lib/python3.7/dist-packages (from idx2numpy) (1.15.0)\n",
            "Building wheels for collected packages: idx2numpy\n",
            "  Building wheel for idx2numpy (setup.py) ... \u001b[?25l\u001b[?25hdone\n",
            "  Created wheel for idx2numpy: filename=idx2numpy-1.2.3-cp37-none-any.whl size=7907 sha256=52b3d098c63c488f18b43029abfb4cad92159268b2fe01f268a7529f51c08685\n",
            "  Stored in directory: /root/.cache/pip/wheels/7a/c1/da/284ce80a748fab898b8d1fa95468a386e7cf3b81da18511f9d\n",
            "Successfully built idx2numpy\n",
            "Installing collected packages: idx2numpy\n",
            "Successfully installed idx2numpy-1.2.3\n"
          ],
          "name": "stdout"
        }
      ]
    },
    {
      "cell_type": "code",
      "metadata": {
        "id": "fD0nEYPxOtko"
      },
      "source": [
        "import idx2numpy\n",
        "import numpy as np\n",
        "import matplotlib.pyplot as plt\n",
        "import cv2\n",
        "from keras.preprocessing import image\n",
        "from keras.utils import to_categorical\n",
        "from sklearn.model_selection import train_test_split\n",
        "import tensorflow as tf\n",
        "from tensorflow import keras\n",
        "from keras.layers import Conv2D,Flatten, Dense, Dropout, BatchNormalization, LeakyReLU, MaxPool2D , Cropping2D\n",
        "from keras.optimizers import Adam\n",
        "from keras.models import Sequential\n",
        "from keras import regularizers\n",
        "from keras.optimizers import Adam\n",
        "import tensorflow as tf\n",
        "from tensorflow.keras.layers import Lambda\n",
        "from keras.callbacks import ModelCheckpoint\n",
        "from sklearn.metrics import precision_score\n",
        "from sklearn.metrics import recall_score"
      ],
      "execution_count": null,
      "outputs": []
    },
    {
      "cell_type": "markdown",
      "metadata": {
        "id": "V_Ta62iEPI1X"
      },
      "source": [
        "## Loading The Dataset"
      ]
    },
    {
      "cell_type": "code",
      "metadata": {
        "id": "X3JgKFBZSGj2"
      },
      "source": [
        "def LoadDataset():\n",
        "  file_x = '/content/drive/MyDrive/MIDASTask/train-images-idx3-ubyte'\n",
        "  x = idx2numpy.convert_from_file(file_x)\n",
        "  file_y = '/content/drive/MyDrive/MIDASTask/train-labels-idx1-ubyte'\n",
        "  y = idx2numpy.convert_from_file(file_y)\n",
        "  return x,y\n"
      ],
      "execution_count": null,
      "outputs": []
    },
    {
      "cell_type": "markdown",
      "metadata": {
        "id": "RYaW81YyUsRQ"
      },
      "source": [
        "## Upload The Image Array\n",
        "Since the image is already in gray-scale . What the function <i>UploadTheImageArray()</i> does is it resizes the image to 40 x 40 , then converts it into numpy array and then the values are divided by 255.0 "
      ]
    },
    {
      "cell_type": "code",
      "metadata": {
        "id": "M5rkPIYKSXrM"
      },
      "source": [
        "def UploadTheImageArray(x_img):\n",
        "  x_final = []\n",
        "  for i in range(0,len(x_img)):\n",
        "    img = x_img[i]\n",
        "    res = cv2.resize(img, dsize=(40, 40))\n",
        "    data = image.img_to_array(res)\n",
        "    x_final.append(data/255.0)\n",
        "  x_train = np.array(x_final)\n",
        "  return x_train\n"
      ],
      "execution_count": null,
      "outputs": []
    },
    {
      "cell_type": "markdown",
      "metadata": {
        "id": "yTNo40cBVTt1"
      },
      "source": [
        "## Convert Y into Categorical Data \n",
        "The function <i>ConvertToCategoricalValues()</i> converts y into Categorical data . "
      ]
    },
    {
      "cell_type": "code",
      "metadata": {
        "id": "Eq0tYVIWTPuP"
      },
      "source": [
        "def ConvertToCategoricalValues(y_):\n",
        "  y__ = to_categorical(y,num_classes=10, dtype = 'int')\n",
        "  return y__"
      ],
      "execution_count": null,
      "outputs": []
    },
    {
      "cell_type": "markdown",
      "metadata": {
        "id": "R_JmQSbKVlXP"
      },
      "source": [
        "## Splitting the dataset into Train and Validation Set "
      ]
    },
    {
      "cell_type": "code",
      "metadata": {
        "id": "ni6CBXbMQ5N-"
      },
      "source": [
        "def SplitItTrainAndValid(x_,y_):\n",
        "  x_train, x_valid, y_train, y_valid = train_test_split(x_, y_, test_size=0.2, random_state=0)\n",
        "  return x_train, x_valid, y_train, y_valid"
      ],
      "execution_count": null,
      "outputs": []
    },
    {
      "cell_type": "markdown",
      "metadata": {
        "id": "6fWGb0VAVq2M"
      },
      "source": [
        "## In the following cells the Function mentioned above have been executed ."
      ]
    },
    {
      "cell_type": "code",
      "metadata": {
        "id": "cczwMK2hVzVM"
      },
      "source": [
        "x,y = LoadDataset()"
      ],
      "execution_count": null,
      "outputs": []
    },
    {
      "cell_type": "code",
      "metadata": {
        "id": "0cvZBS5-V3nT"
      },
      "source": [
        "x_preprocessed = UploadTheImageArray(x)"
      ],
      "execution_count": null,
      "outputs": []
    },
    {
      "cell_type": "code",
      "metadata": {
        "id": "XEX9ZVgrV_Ca"
      },
      "source": [
        "y_ = ConvertToCategoricalValues(y)"
      ],
      "execution_count": null,
      "outputs": []
    },
    {
      "cell_type": "code",
      "metadata": {
        "id": "8jnXwG-FWDx4"
      },
      "source": [
        "x_train, x_valid, y_train, y_valid = SplitItTrainAndValid(x_preprocessed, y_)"
      ],
      "execution_count": null,
      "outputs": []
    },
    {
      "cell_type": "code",
      "metadata": {
        "colab": {
          "base_uri": "https://localhost:8080/"
        },
        "id": "8K_D5_weWWHk",
        "outputId": "f5e7c16c-cbc7-4602-bcfe-10199377d677"
      },
      "source": [
        "print(x_train.shape,x_valid.shape, y_train.shape, y_valid.shape)"
      ],
      "execution_count": null,
      "outputs": [
        {
          "output_type": "stream",
          "text": [
            "(48000, 40, 40, 1) (12000, 40, 40, 1) (48000, 10) (12000, 10)\n"
          ],
          "name": "stdout"
        }
      ]
    },
    {
      "cell_type": "markdown",
      "metadata": {
        "id": "9fWPDmIOWe7Y"
      },
      "source": [
        "## Visualizing the Original Image"
      ]
    },
    {
      "cell_type": "code",
      "metadata": {
        "colab": {
          "base_uri": "https://localhost:8080/",
          "height": 282
        },
        "id": "RUf47QocWjZb",
        "outputId": "0494fff3-886e-432c-bbc0-4e1f16f02412"
      },
      "source": [
        "plt.imshow(x[0])"
      ],
      "execution_count": null,
      "outputs": [
        {
          "output_type": "execute_result",
          "data": {
            "text/plain": [
              "<matplotlib.image.AxesImage at 0x7fbdc435fed0>"
            ]
          },
          "metadata": {
            "tags": []
          },
          "execution_count": 34
        },
        {
          "output_type": "display_data",
          "data": {
            "image/png": "[encoded data removed]",
            "text/plain": [
              "<Figure size 432x288 with 1 Axes>"
            ]
          },
          "metadata": {
            "tags": [],
            "needs_background": "light"
          }
        }
      ]
    },
    {
      "cell_type": "markdown",
      "metadata": {
        "id": "03OK-cnAWoZH"
      },
      "source": [
        "## Visualing the Image after Pre-processing\n",
        "The image has been resized to 40 x 40 . It is converted into an array and then the pixel values are divided by 255.0 ."
      ]
    },
    {
      "cell_type": "code",
      "metadata": {
        "colab": {
          "base_uri": "https://localhost:8080/",
          "height": 284
        },
        "id": "bUWawtABWwR8",
        "outputId": "a5ffd654-452b-447c-8250-86b2a116a42d"
      },
      "source": [
        "img = x[0]\n",
        "res = cv2.resize(img, dsize=(40, 40))\n",
        "plt.imshow(res)"
      ],
      "execution_count": null,
      "outputs": [
        {
          "output_type": "execute_result",
          "data": {
            "text/plain": [
              "<matplotlib.image.AxesImage at 0x7fbdc42c33d0>"
            ]
          },
          "metadata": {
            "tags": []
          },
          "execution_count": 36
        },
        {
          "output_type": "display_data",
          "data": {
            "image/png": "[encoded data removed]",
            "text/plain": [
              "<Figure size 432x288 with 1 Axes>"
            ]
          },
          "metadata": {
            "tags": [],
            "needs_background": "light"
          }
        }
      ]
    },
    {
      "cell_type": "markdown",
      "metadata": {
        "id": "sMJhpV2ISvCE"
      },
      "source": [
        "## Loading the Pre-Trained Model\n",
        "The last layer of the Pre-Trained model has been removed and in place of that a softmax layer with 10 neurons have been added , since there are only 10 classes to predict from .\n",
        "\n"
      ]
    },
    {
      "cell_type": "code",
      "metadata": {
        "id": "Vvj8KSavStyd"
      },
      "source": [
        "loaded_model = tf.keras.models.load_model('/content/drive/MyDrive/MIDASTask/FirstModel/First_Step_Model.epoch11-loss0.72.hdf5')"
      ],
      "execution_count": null,
      "outputs": []
    },
    {
      "cell_type": "code",
      "metadata": {
        "id": "Cef9Y-yrROQS"
      },
      "source": [
        "loaded_model.pop()"
      ],
      "execution_count": null,
      "outputs": []
    },
    {
      "cell_type": "code",
      "metadata": {
        "id": "xP8dyZ51sB-p"
      },
      "source": [
        "model_pretrain = Sequential()\n",
        "model_pretrain.add(loaded_model)\n",
        "model_pretrain.add(Dense(10,activation = 'softmax'))"
      ],
      "execution_count": null,
      "outputs": []
    },
    {
      "cell_type": "code",
      "metadata": {
        "colab": {
          "base_uri": "https://localhost:8080/"
        },
        "id": "JKhGIkG9UBBr",
        "outputId": "1cbcb6ec-c6fe-42c2-9396-69565018c621"
      },
      "source": [
        "model_pretrain.summary()"
      ],
      "execution_count": null,
      "outputs": [
        {
          "output_type": "stream",
          "text": [
            "Model: \"sequential_4\"\n",
            "_________________________________________________________________\n",
            "Layer (type)                 Output Shape              Param #   \n",
            "=================================================================\n",
            "sequential_1 (Sequential)    (None, 128)               81232     \n",
            "_________________________________________________________________\n",
            "dense_5 (Dense)              (None, 10)                1290      \n",
            "=================================================================\n",
            "Total params: 82,522\n",
            "Trainable params: 82,394\n",
            "Non-trainable params: 128\n",
            "_________________________________________________________________\n"
          ],
          "name": "stdout"
        }
      ]
    },
    {
      "cell_type": "code",
      "metadata": {
        "id": "BpkKRGhMVxnZ"
      },
      "source": [
        "model_pretrain.compile(optimizer='adam', loss = 'categorical_crossentropy', metrics = ['accuracy'])"
      ],
      "execution_count": null,
      "outputs": []
    },
    {
      "cell_type": "code",
      "metadata": {
        "id": "zW1ssgzxg4ZC"
      },
      "source": [
        "\n",
        "path_model = 'Second_Step_Model_PreTrained.epoch{epoch:02d}-loss{val_loss:.2f}.hdf5'\n",
        "checkpoint = ModelCheckpoint(filepath='/content/drive/MyDrive/MIDASTask/SecondModelPreTrained/'+path_model, \n",
        "                             monitor = 'val_loss',\n",
        "                             verbose=1, \n",
        "                             save_best_only=False,\n",
        "                             mode= 'min')"
      ],
      "execution_count": null,
      "outputs": []
    },
    {
      "cell_type": "code",
      "metadata": {
        "id": "t9xRLqUfhHfy"
      },
      "source": [
        "callbacks = [checkpoint]"
      ],
      "execution_count": null,
      "outputs": []
    },
    {
      "cell_type": "code",
      "metadata": {
        "colab": {
          "base_uri": "https://localhost:8080/"
        },
        "id": "l0dMC0VqV6ul",
        "outputId": "237bf56a-de04-47b5-eb56-9c1c89f5ee19"
      },
      "source": [
        "history_pretrained = model_pretrain.fit(x_train, y_train, batch_size = 512, epochs = 10,verbose = 2,validation_data = (x_valid, y_valid), callbacks=callbacks )"
      ],
      "execution_count": null,
      "outputs": [
        {
          "output_type": "stream",
          "text": [
            "Epoch 1/10\n",
            "94/94 - 45s - loss: 0.2621 - accuracy: 0.9241 - val_loss: 0.1029 - val_accuracy: 0.9664\n",
            "\n",
            "Epoch 00001: saving model to /content/drive/MyDrive/MIDASTask/SecondModelPreTrained/Second_Step_Model_PreTrained.epoch01-loss0.10.hdf5\n",
            "Epoch 2/10\n",
            "94/94 - 44s - loss: 0.0551 - accuracy: 0.9837 - val_loss: 0.0667 - val_accuracy: 0.9780\n",
            "\n",
            "Epoch 00002: saving model to /content/drive/MyDrive/MIDASTask/SecondModelPreTrained/Second_Step_Model_PreTrained.epoch02-loss0.07.hdf5\n",
            "Epoch 3/10\n",
            "94/94 - 44s - loss: 0.0377 - accuracy: 0.9890 - val_loss: 0.0519 - val_accuracy: 0.9839\n",
            "\n",
            "Epoch 00003: saving model to /content/drive/MyDrive/MIDASTask/SecondModelPreTrained/Second_Step_Model_PreTrained.epoch03-loss0.05.hdf5\n",
            "Epoch 4/10\n",
            "94/94 - 45s - loss: 0.0272 - accuracy: 0.9924 - val_loss: 0.0382 - val_accuracy: 0.9879\n",
            "\n",
            "Epoch 00004: saving model to /content/drive/MyDrive/MIDASTask/SecondModelPreTrained/Second_Step_Model_PreTrained.epoch04-loss0.04.hdf5\n",
            "Epoch 5/10\n",
            "94/94 - 45s - loss: 0.0201 - accuracy: 0.9946 - val_loss: 0.0327 - val_accuracy: 0.9892\n",
            "\n",
            "Epoch 00005: saving model to /content/drive/MyDrive/MIDASTask/SecondModelPreTrained/Second_Step_Model_PreTrained.epoch05-loss0.03.hdf5\n",
            "Epoch 6/10\n",
            "94/94 - 45s - loss: 0.0159 - accuracy: 0.9959 - val_loss: 0.0299 - val_accuracy: 0.9902\n",
            "\n",
            "Epoch 00006: saving model to /content/drive/MyDrive/MIDASTask/SecondModelPreTrained/Second_Step_Model_PreTrained.epoch06-loss0.03.hdf5\n",
            "Epoch 7/10\n",
            "94/94 - 44s - loss: 0.0123 - accuracy: 0.9969 - val_loss: 0.0296 - val_accuracy: 0.9908\n",
            "\n",
            "Epoch 00007: saving model to /content/drive/MyDrive/MIDASTask/SecondModelPreTrained/Second_Step_Model_PreTrained.epoch07-loss0.03.hdf5\n",
            "Epoch 8/10\n",
            "94/94 - 45s - loss: 0.0094 - accuracy: 0.9980 - val_loss: 0.0336 - val_accuracy: 0.9886\n",
            "\n",
            "Epoch 00008: saving model to /content/drive/MyDrive/MIDASTask/SecondModelPreTrained/Second_Step_Model_PreTrained.epoch08-loss0.03.hdf5\n",
            "Epoch 9/10\n",
            "94/94 - 45s - loss: 0.0072 - accuracy: 0.9987 - val_loss: 0.0353 - val_accuracy: 0.9891\n",
            "\n",
            "Epoch 00009: saving model to /content/drive/MyDrive/MIDASTask/SecondModelPreTrained/Second_Step_Model_PreTrained.epoch09-loss0.04.hdf5\n",
            "Epoch 10/10\n",
            "94/94 - 44s - loss: 0.0057 - accuracy: 0.9991 - val_loss: 0.0321 - val_accuracy: 0.9900\n",
            "\n",
            "Epoch 00010: saving model to /content/drive/MyDrive/MIDASTask/SecondModelPreTrained/Second_Step_Model_PreTrained.epoch10-loss0.03.hdf5\n"
          ],
          "name": "stdout"
        }
      ]
    },
    {
      "cell_type": "markdown",
      "metadata": {
        "id": "dQNRzIjJYo9h"
      },
      "source": [
        "## Randomly Initialised Model"
      ]
    },
    {
      "cell_type": "code",
      "metadata": {
        "id": "SgNl9CHjYkm-"
      },
      "source": [
        "model_random = Sequential()\n",
        "model_random.add(Conv2D(16,(3,3),activation='relu',input_shape = (40,40,1)))\n",
        "model_random.add(BatchNormalization())\n",
        "model_random.add(MaxPool2D(2,2))\n",
        "\n",
        "model_random.add(Conv2D(16,(3,3),activation='relu'))\n",
        "model_random.add(BatchNormalization())\n",
        "model_random.add(MaxPool2D(2,2))\n",
        "\n",
        "model_random.add(Conv2D(32,(5,5),activation='relu'))\n",
        "model_random.add(BatchNormalization())\n",
        "\n",
        "model_random.add(Flatten())\n",
        "model_random.add(Dense(128,activation =\"relu\"))\n",
        "model_random.add(Dense(10,activation =\"softmax\"))"
      ],
      "execution_count": null,
      "outputs": []
    },
    {
      "cell_type": "code",
      "metadata": {
        "colab": {
          "base_uri": "https://localhost:8080/"
        },
        "id": "VY8i7SSGb2jI",
        "outputId": "3d6f820e-56eb-4714-82f4-ff8d5eec1bd1"
      },
      "source": [
        "model_random.summary()"
      ],
      "execution_count": null,
      "outputs": [
        {
          "output_type": "stream",
          "text": [
            "Model: \"sequential_5\"\n",
            "_________________________________________________________________\n",
            "Layer (type)                 Output Shape              Param #   \n",
            "=================================================================\n",
            "conv2d_3 (Conv2D)            (None, 38, 38, 16)        160       \n",
            "_________________________________________________________________\n",
            "batch_normalization_3 (Batch (None, 38, 38, 16)        64        \n",
            "_________________________________________________________________\n",
            "max_pooling2d_2 (MaxPooling2 (None, 19, 19, 16)        0         \n",
            "_________________________________________________________________\n",
            "conv2d_4 (Conv2D)            (None, 17, 17, 16)        2320      \n",
            "_________________________________________________________________\n",
            "batch_normalization_4 (Batch (None, 17, 17, 16)        64        \n",
            "_________________________________________________________________\n",
            "max_pooling2d_3 (MaxPooling2 (None, 8, 8, 16)          0         \n",
            "_________________________________________________________________\n",
            "conv2d_5 (Conv2D)            (None, 4, 4, 32)          12832     \n",
            "_________________________________________________________________\n",
            "batch_normalization_5 (Batch (None, 4, 4, 32)          128       \n",
            "_________________________________________________________________\n",
            "flatten_1 (Flatten)          (None, 512)               0         \n",
            "_________________________________________________________________\n",
            "dense_6 (Dense)              (None, 128)               65664     \n",
            "_________________________________________________________________\n",
            "dense_7 (Dense)              (None, 10)                1290      \n",
            "=================================================================\n",
            "Total params: 82,522\n",
            "Trainable params: 82,394\n",
            "Non-trainable params: 128\n",
            "_________________________________________________________________\n"
          ],
          "name": "stdout"
        }
      ]
    },
    {
      "cell_type": "code",
      "metadata": {
        "id": "oZDv3HkEaO1F"
      },
      "source": [
        "model_random.compile(optimizer='adam', loss = 'categorical_crossentropy', metrics = ['accuracy'])"
      ],
      "execution_count": null,
      "outputs": []
    },
    {
      "cell_type": "code",
      "metadata": {
        "id": "bTse56sGhi8J"
      },
      "source": [
        "\n",
        "path_model = 'Second_Step_Model_Random.epoch{epoch:02d}-loss{val_loss:.2f}.hdf5'\n",
        "checkpoint_1 = ModelCheckpoint(filepath='/content/drive/MyDrive/MIDASTask/SecondModelRandom/'+path_model, \n",
        "                             monitor = 'val_loss',\n",
        "                             verbose=1, \n",
        "                             save_best_only=False,\n",
        "                             mode= 'min')"
      ],
      "execution_count": null,
      "outputs": []
    },
    {
      "cell_type": "code",
      "metadata": {
        "id": "BLb-e5hdhnfo"
      },
      "source": [
        "callbacks_1 = checkpoint_1"
      ],
      "execution_count": null,
      "outputs": []
    },
    {
      "cell_type": "code",
      "metadata": {
        "colab": {
          "base_uri": "https://localhost:8080/"
        },
        "id": "MjDAyvqtY_kn",
        "outputId": "c2cb6296-c149-4db6-fc19-6236677daf54"
      },
      "source": [
        "history_random = model_random.fit(x_train, y_train, batch_size = 512, epochs = 10,verbose = 2,validation_data = (x_valid, y_valid), callbacks = callbacks_1)"
      ],
      "execution_count": null,
      "outputs": [
        {
          "output_type": "stream",
          "text": [
            "Epoch 1/10\n",
            "94/94 - 44s - loss: 0.3012 - accuracy: 0.9094 - val_loss: 2.2954 - val_accuracy: 0.3393\n",
            "\n",
            "Epoch 00001: saving model to /content/drive/MyDrive/MIDASTask/SecondModelRandom/Second_Step_Model_Random.epoch01-loss2.30.hdf5\n",
            "Epoch 2/10\n",
            "94/94 - 45s - loss: 0.0630 - accuracy: 0.9818 - val_loss: 2.3307 - val_accuracy: 0.3587\n",
            "\n",
            "Epoch 00002: saving model to /content/drive/MyDrive/MIDASTask/SecondModelRandom/Second_Step_Model_Random.epoch02-loss2.33.hdf5\n",
            "Epoch 3/10\n",
            "94/94 - 44s - loss: 0.0399 - accuracy: 0.9882 - val_loss: 1.5714 - val_accuracy: 0.5925\n",
            "\n",
            "Epoch 00003: saving model to /content/drive/MyDrive/MIDASTask/SecondModelRandom/Second_Step_Model_Random.epoch03-loss1.57.hdf5\n",
            "Epoch 4/10\n",
            "94/94 - 44s - loss: 0.0286 - accuracy: 0.9920 - val_loss: 0.9096 - val_accuracy: 0.6868\n",
            "\n",
            "Epoch 00004: saving model to /content/drive/MyDrive/MIDASTask/SecondModelRandom/Second_Step_Model_Random.epoch04-loss0.91.hdf5\n",
            "Epoch 5/10\n",
            "94/94 - 44s - loss: 0.0214 - accuracy: 0.9943 - val_loss: 0.3231 - val_accuracy: 0.8903\n",
            "\n",
            "Epoch 00005: saving model to /content/drive/MyDrive/MIDASTask/SecondModelRandom/Second_Step_Model_Random.epoch05-loss0.32.hdf5\n",
            "Epoch 6/10\n",
            "94/94 - 44s - loss: 0.0164 - accuracy: 0.9955 - val_loss: 0.0661 - val_accuracy: 0.9805\n",
            "\n",
            "Epoch 00006: saving model to /content/drive/MyDrive/MIDASTask/SecondModelRandom/Second_Step_Model_Random.epoch06-loss0.07.hdf5\n",
            "Epoch 7/10\n",
            "94/94 - 45s - loss: 0.0114 - accuracy: 0.9973 - val_loss: 0.0396 - val_accuracy: 0.9877\n",
            "\n",
            "Epoch 00007: saving model to /content/drive/MyDrive/MIDASTask/SecondModelRandom/Second_Step_Model_Random.epoch07-loss0.04.hdf5\n",
            "Epoch 8/10\n",
            "94/94 - 45s - loss: 0.0092 - accuracy: 0.9978 - val_loss: 0.0845 - val_accuracy: 0.9769\n",
            "\n",
            "Epoch 00008: saving model to /content/drive/MyDrive/MIDASTask/SecondModelRandom/Second_Step_Model_Random.epoch08-loss0.08.hdf5\n",
            "Epoch 9/10\n",
            "94/94 - 44s - loss: 0.0071 - accuracy: 0.9983 - val_loss: 0.0374 - val_accuracy: 0.9887\n",
            "\n",
            "Epoch 00009: saving model to /content/drive/MyDrive/MIDASTask/SecondModelRandom/Second_Step_Model_Random.epoch09-loss0.04.hdf5\n",
            "Epoch 10/10\n",
            "94/94 - 44s - loss: 0.0049 - accuracy: 0.9992 - val_loss: 0.0353 - val_accuracy: 0.9904\n",
            "\n",
            "Epoch 00010: saving model to /content/drive/MyDrive/MIDASTask/SecondModelRandom/Second_Step_Model_Random.epoch10-loss0.04.hdf5\n"
          ],
          "name": "stdout"
        }
      ]
    },
    {
      "cell_type": "markdown",
      "metadata": {
        "id": "uWf2-Fadpy3-"
      },
      "source": [
        "## Graphical Representaton of Loss and Accuracy of Train and Validation Set For PreTrained Model\n"
      ]
    },
    {
      "cell_type": "code",
      "metadata": {
        "colab": {
          "base_uri": "https://localhost:8080/",
          "height": 295
        },
        "id": "GoNijortqAd_",
        "outputId": "224a1f37-399c-4054-b94f-ea4706f2f3c1"
      },
      "source": [
        "loss_train = history_pretrained.history['loss']\n",
        "loss_val = history_pretrained.history['val_loss']\n",
        "epochs = range(1,11)\n",
        "plt.plot(epochs, loss_train, 'g', label='Training loss')\n",
        "plt.plot(epochs, loss_val, 'b', label='validation loss')\n",
        "plt.title('Training and Validation loss')\n",
        "plt.xlabel('Epochs')\n",
        "plt.ylabel('Loss')\n",
        "plt.legend()\n",
        "plt.show()"
      ],
      "execution_count": null,
      "outputs": [
        {
          "output_type": "display_data",
          "data": {
            "image/png": "[encoded data removed]",
            "text/plain": [
              "<Figure size 432x288 with 1 Axes>"
            ]
          },
          "metadata": {
            "tags": [],
            "needs_background": "light"
          }
        }
      ]
    },
    {
      "cell_type": "code",
      "metadata": {
        "colab": {
          "base_uri": "https://localhost:8080/",
          "height": 295
        },
        "id": "RNyLZsr8qPa_",
        "outputId": "790b0b0e-84bd-4fad-f0a5-b72092f3e894"
      },
      "source": [
        "loss_train = history_pretrained.history['accuracy']\n",
        "loss_val = history_pretrained.history['val_accuracy']\n",
        "epochs = range(1,11)\n",
        "plt.plot(epochs, loss_train, 'g', label='Training accuracy')\n",
        "plt.plot(epochs, loss_val, 'b', label='validation accuracy')\n",
        "plt.title('Training and Validation accuracy')\n",
        "plt.xlabel('Epochs')\n",
        "plt.ylabel('Accuracy')\n",
        "plt.legend()\n",
        "plt.show()"
      ],
      "execution_count": null,
      "outputs": [
        {
          "output_type": "display_data",
          "data": {
            "image/png": "[encoded data removed]",
            "text/plain": [
              "<Figure size 432x288 with 1 Axes>"
            ]
          },
          "metadata": {
            "tags": [],
            "needs_background": "light"
          }
        }
      ]
    },
    {
      "cell_type": "markdown",
      "metadata": {
        "id": "dFXf-1pqqaYM"
      },
      "source": [
        "## Graphical Representaton of Loss and Accuracy of Train and Validation Set For RandomlyInitialised Model"
      ]
    },
    {
      "cell_type": "code",
      "metadata": {
        "colab": {
          "base_uri": "https://localhost:8080/",
          "height": 295
        },
        "id": "wUelKJ7MqeYZ",
        "outputId": "5909f6d0-fd26-4904-ce07-c8a31976eb21"
      },
      "source": [
        "loss_train = history_random.history['loss']\n",
        "loss_val = history_random.history['val_loss']\n",
        "epochs = range(1,11)\n",
        "plt.plot(epochs, loss_train, 'g', label='Training loss')\n",
        "plt.plot(epochs, loss_val, 'b', label='validation loss')\n",
        "plt.title('Training and Validation loss')\n",
        "plt.xlabel('Epochs')\n",
        "plt.ylabel('Loss')\n",
        "plt.legend()\n",
        "plt.show()"
      ],
      "execution_count": null,
      "outputs": [
        {
          "output_type": "display_data",
          "data": {
            "image/png": "[encoded data removed]",
            "text/plain": [
              "<Figure size 432x288 with 1 Axes>"
            ]
          },
          "metadata": {
            "tags": [],
            "needs_background": "light"
          }
        }
      ]
    },
    {
      "cell_type": "code",
      "metadata": {
        "colab": {
          "base_uri": "https://localhost:8080/",
          "height": 295
        },
        "id": "zJv6K07Pqvt5",
        "outputId": "2e751654-6982-482a-d21f-45c7588be279"
      },
      "source": [
        "loss_train = history_random.history['accuracy']\n",
        "loss_val = history_random.history['val_accuracy']\n",
        "epochs = range(1,11)\n",
        "plt.plot(epochs, loss_train, 'g', label='Training accuracy')\n",
        "plt.plot(epochs, loss_val, 'b', label='validation accuracy')\n",
        "plt.title('Training and Validation accuracy')\n",
        "plt.xlabel('Epochs')\n",
        "plt.ylabel('Accuracy')\n",
        "plt.legend()\n",
        "plt.show()"
      ],
      "execution_count": null,
      "outputs": [
        {
          "output_type": "display_data",
          "data": {
            "image/png": "[encoded data removed]",
            "text/plain": [
              "<Figure size 432x288 with 1 Axes>"
            ]
          },
          "metadata": {
            "tags": [],
            "needs_background": "light"
          }
        }
      ]
    },
    {
      "cell_type": "markdown",
      "metadata": {
        "id": "UsYnuum1rF9m"
      },
      "source": [
        "## Uploading the Test Data "
      ]
    },
    {
      "cell_type": "code",
      "metadata": {
        "id": "_K_krtEwnZTM"
      },
      "source": [
        "file = '/content/drive/MyDrive/MIDASTask/t10k-images-idx3-ubyte'\n",
        "x_te = idx2numpy.convert_from_file(file)"
      ],
      "execution_count": null,
      "outputs": []
    },
    {
      "cell_type": "code",
      "metadata": {
        "id": "UK86GFBiz37_"
      },
      "source": [
        "file = '/content/drive/MyDrive/MIDASTask/t10k-labels.idx1-ubyte'\n",
        "y_te = idx2numpy.convert_from_file(file)"
      ],
      "execution_count": null,
      "outputs": []
    },
    {
      "cell_type": "code",
      "metadata": {
        "colab": {
          "base_uri": "https://localhost:8080/"
        },
        "id": "0MRX7AKK0f8e",
        "outputId": "fcf533d8-62cb-4167-d80e-57f8ffec7ec7"
      },
      "source": [
        "x_te.shape"
      ],
      "execution_count": null,
      "outputs": [
        {
          "output_type": "execute_result",
          "data": {
            "text/plain": [
              "(10000, 28, 28)"
            ]
          },
          "metadata": {
            "tags": []
          },
          "execution_count": 7
        }
      ]
    },
    {
      "cell_type": "code",
      "metadata": {
        "colab": {
          "base_uri": "https://localhost:8080/"
        },
        "id": "5rmIYrdU0hVo",
        "outputId": "4bad2622-bbfa-473d-9354-38674899b237"
      },
      "source": [
        "y_te.shape"
      ],
      "execution_count": null,
      "outputs": [
        {
          "output_type": "execute_result",
          "data": {
            "text/plain": [
              "(10000,)"
            ]
          },
          "metadata": {
            "tags": []
          },
          "execution_count": 8
        }
      ]
    },
    {
      "cell_type": "code",
      "metadata": {
        "id": "JHlu-M6H0j0_"
      },
      "source": [
        "x_test = []\n",
        "for i in range(0,10000):\n",
        "  img = x_te[i]\n",
        "  res = cv2.resize(img, dsize=(40, 40), interpolation=cv2.INTER_CUBIC)\n",
        "  data = image.img_to_array(res)\n",
        "  x_test.append(data/255.0)"
      ],
      "execution_count": null,
      "outputs": []
    },
    {
      "cell_type": "code",
      "metadata": {
        "id": "P4iWwcwl0yvr"
      },
      "source": [
        "x_test_final = np.array(x_test)"
      ],
      "execution_count": null,
      "outputs": []
    },
    {
      "cell_type": "code",
      "metadata": {
        "id": "LwewJX4s03-b"
      },
      "source": [
        "y_te = np.array(y_te)\n",
        "y_test = to_categorical(y_te,num_classes=10, dtype = 'int')"
      ],
      "execution_count": null,
      "outputs": []
    },
    {
      "cell_type": "code",
      "metadata": {
        "colab": {
          "base_uri": "https://localhost:8080/"
        },
        "id": "4bNn5xm9tXUs",
        "outputId": "08f5eae5-be23-4b0e-be07-71615b847d7f"
      },
      "source": [
        "print(x_test_final.shape, y_test.shape)"
      ],
      "execution_count": null,
      "outputs": [
        {
          "output_type": "stream",
          "text": [
            "(10000, 40, 40, 1) (10000, 10)\n"
          ],
          "name": "stdout"
        }
      ]
    },
    {
      "cell_type": "markdown",
      "metadata": {
        "id": "RV2ELLGbs0wi"
      },
      "source": [
        "## Comparing the Accuracy of the last epoch model of PreTrain and Randomly Initialised Model "
      ]
    },
    {
      "cell_type": "code",
      "metadata": {
        "id": "0f8s2xiYQsHV"
      },
      "source": [
        "model_pretrain_loaded = tf.keras.models.load_model('/content/drive/MyDrive/MIDASTask/SecondModelPreTrained/Second_Step_Model_PreTrained.epoch10-loss0.03.hdf5')"
      ],
      "execution_count": null,
      "outputs": []
    },
    {
      "cell_type": "code",
      "metadata": {
        "id": "hqFrtlmoQ-LE"
      },
      "source": [
        "model_random_loaded = tf.keras.models.load_model('/content/drive/MyDrive/MIDASTask/SecondModelRandom/Second_Step_Model_Random.epoch10-loss0.04.hdf5')"
      ],
      "execution_count": null,
      "outputs": []
    },
    {
      "cell_type": "code",
      "metadata": {
        "id": "l3ftQia6s-Sq"
      },
      "source": [
        "Score_PreTrain_LastEpoch = model_pretrain_loaded.evaluate(x_test_final,y_test,verbose = 0)"
      ],
      "execution_count": null,
      "outputs": []
    },
    {
      "cell_type": "code",
      "metadata": {
        "id": "pvMfjiwP1J3k"
      },
      "source": [
        "Score_Random_LastEpoch = model_random_loaded.evaluate(x_test_final,y_test,verbose=0)"
      ],
      "execution_count": null,
      "outputs": []
    },
    {
      "cell_type": "code",
      "metadata": {
        "colab": {
          "base_uri": "https://localhost:8080/"
        },
        "id": "28TWLQOQ1SUy",
        "outputId": "66823846-2d9c-4414-bde8-1f7965c5b77b"
      },
      "source": [
        "print(\"Accuracy of Last Epoch of Pre-Trained Models is :\", Score_PreTrain_LastEpoch[1])"
      ],
      "execution_count": null,
      "outputs": [
        {
          "output_type": "stream",
          "text": [
            "Accuracy of Last Epoch of Pre-Trained Models is : 0.9894000291824341\n"
          ],
          "name": "stdout"
        }
      ]
    },
    {
      "cell_type": "code",
      "metadata": {
        "colab": {
          "base_uri": "https://localhost:8080/"
        },
        "id": "EruM0hDcuI9T",
        "outputId": "24cc1d25-97cd-4b77-be50-6db6810b00fc"
      },
      "source": [
        "print(\"Accuracy of Last Epoch of Randomly Initialised Models is :\", Score_Random_LastEpoch[1])"
      ],
      "execution_count": null,
      "outputs": [
        {
          "output_type": "stream",
          "text": [
            "Accuracy of Last Epoch of Randomly Initialised Models is : 0.9890000224113464\n"
          ],
          "name": "stdout"
        }
      ]
    },
    {
      "cell_type": "markdown",
      "metadata": {
        "id": "PYm7Lz5Rv_11"
      },
      "source": [
        "## Calculating the Precision and Recall of PreTrain Model"
      ]
    },
    {
      "cell_type": "code",
      "metadata": {
        "id": "qeo7ihZuvzbY"
      },
      "source": [
        "y_pred_pretrain = model_pretrain_loaded.predict(x_test_final)"
      ],
      "execution_count": null,
      "outputs": []
    },
    {
      "cell_type": "code",
      "metadata": {
        "id": "CQaicCyov9xu"
      },
      "source": [
        "y_pred_final_pretrain = np.zeros_like(y_pred_pretrain)\n",
        "y_pred_final_pretrain[np.arange(len(y_pred_pretrain)), y_pred_pretrain.argmax(1)] = 1\n",
        "y_pred_final_pretrain = y_pred_final_pretrain.astype(int)"
      ],
      "execution_count": null,
      "outputs": []
    },
    {
      "cell_type": "code",
      "metadata": {
        "id": "FcCQR6fRResD"
      },
      "source": [
        "precision_pretrain = precision_score(y_pred_final_pretrain, y_test,average = 'weighted')"
      ],
      "execution_count": null,
      "outputs": []
    },
    {
      "cell_type": "code",
      "metadata": {
        "colab": {
          "base_uri": "https://localhost:8080/"
        },
        "id": "G5u6CobMSCLO",
        "outputId": "130b9dd3-3494-426b-a5e3-140f1f9ad570"
      },
      "source": [
        "print(precision_pretrain)"
      ],
      "execution_count": null,
      "outputs": [
        {
          "output_type": "stream",
          "text": [
            "0.9894695260242593\n"
          ],
          "name": "stdout"
        }
      ]
    },
    {
      "cell_type": "code",
      "metadata": {
        "id": "xsBb2ru_SGCQ"
      },
      "source": [
        "recall_pretrain = recall_score(y_pred_final_pretrain, y_test,average = 'weighted')"
      ],
      "execution_count": null,
      "outputs": []
    },
    {
      "cell_type": "code",
      "metadata": {
        "colab": {
          "base_uri": "https://localhost:8080/"
        },
        "id": "P642J3YUSJsw",
        "outputId": "7870b52a-09ff-404b-f941-c3876ae75448"
      },
      "source": [
        "print(recall_pretrain)"
      ],
      "execution_count": null,
      "outputs": [
        {
          "output_type": "stream",
          "text": [
            "0.9894\n"
          ],
          "name": "stdout"
        }
      ]
    },
    {
      "cell_type": "markdown",
      "metadata": {
        "id": "nhTOBbHPTCSJ"
      },
      "source": [
        "## Calculating the Precision and Recall of Randomly Initialised Model"
      ]
    },
    {
      "cell_type": "code",
      "metadata": {
        "id": "JCkMlESVwlV4"
      },
      "source": [
        "y_pred_random = model_random_loaded.predict(x_test_final)"
      ],
      "execution_count": null,
      "outputs": []
    },
    {
      "cell_type": "code",
      "metadata": {
        "id": "jqV6lDDrxdqP"
      },
      "source": [
        "y_pred_final_random = np.zeros_like(y_pred_random)\n",
        "y_pred_final_random[np.arange(len(y_pred_random)), y_pred_random.argmax(1)] = int(1)\n",
        "y_pred_final_random = y_pred_final_random.astype(int)"
      ],
      "execution_count": null,
      "outputs": []
    },
    {
      "cell_type": "code",
      "metadata": {
        "id": "XCrf-4uQ1cEq"
      },
      "source": [
        "precision_random = precision_score(y_pred_final_random, y_test, average = 'weighted')"
      ],
      "execution_count": null,
      "outputs": []
    },
    {
      "cell_type": "code",
      "metadata": {
        "id": "n3zWX6Mj2hFs",
        "colab": {
          "base_uri": "https://localhost:8080/"
        },
        "outputId": "72a33ede-04c6-4fba-ac62-c00ca517ea42"
      },
      "source": [
        "print(precision_random)"
      ],
      "execution_count": null,
      "outputs": [
        {
          "output_type": "stream",
          "text": [
            "0.9890316840596978\n"
          ],
          "name": "stdout"
        }
      ]
    },
    {
      "cell_type": "code",
      "metadata": {
        "id": "cTOHpBi82mil"
      },
      "source": [
        "recall_random = recall_score(y_pred_final_random, y_test, average = 'weighted')"
      ],
      "execution_count": null,
      "outputs": []
    },
    {
      "cell_type": "code",
      "metadata": {
        "colab": {
          "base_uri": "https://localhost:8080/"
        },
        "id": "sGi4XnzeTfzK",
        "outputId": "942fcaf9-e0ba-48f6-c574-9312828d687f"
      },
      "source": [
        "print(recall_random)"
      ],
      "execution_count": null,
      "outputs": [
        {
          "output_type": "stream",
          "text": [
            "0.989\n"
          ],
          "name": "stdout"
        }
      ]
    },
    {
      "cell_type": "markdown",
      "metadata": {
        "id": "tFfzww8vTxDz"
      },
      "source": [
        "## Comparision between Pretrain and Randomly Initialised Model\n",
        "\n",
        "<table>\n",
        "  <tr>\n",
        "    <th>Evaluation Metric</th>\n",
        "    <th>Pre-Trained Model</th>\n",
        "    <th>Randomly Initialised Model</th>\n",
        "  </tr>\n",
        "  <tr>\n",
        "    <td>Accuracy</td>\n",
        "    <td>98.940%</td>\n",
        "    <td>98.900%</td>\n",
        "  </tr>\n",
        "  <tr>\n",
        "    <td>Precision (Average = Weighted) </td>\n",
        "    <td>98.947%</td>\n",
        "    <td>98.903%</td>\n",
        "  </tr>\n",
        "  <tr>\n",
        "    <td>Recall (Average = Weighted)</td>\n",
        "    <td>98.940%</td>\n",
        "    <td>98.900%</td>\n",
        "  </tr>\n",
        "  <tr>\n",
        "    <td>Convergence Time</td>\n",
        "    <td>We can see that , the convergence <br> time is less as it converges very <br> early  . It happened as the <br> model was already familiar with <br> the numbers , since it was trained <br> on the alphabets and numebers in step 1. \n",
        "    </td>\n",
        "    <td>We can see that , the convergence <br> time is more .  It happened since the <br> model was an untrained one and <br> prior to training , it was not aware <br> of the numbers . It saw the dataset for the first time .</td>\n",
        "  </tr>\n",
        "\n",
        "\n"
      ]
    },
    {
      "cell_type": "markdown",
      "metadata": {
        "id": "AgCfqp93TlIR"
      },
      "source": [
        "## "
      ]
    },
    {
      "cell_type": "code",
      "metadata": {
        "id": "DXY9sxLfTkhE"
      },
      "source": [
        ""
      ],
      "execution_count": null,
      "outputs": []
    }
  ]
}