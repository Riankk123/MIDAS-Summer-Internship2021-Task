{
  "nbformat": 4,
  "nbformat_minor": 0,
  "metadata": {
    "colab": {
      "name": "MIDAS_Task_2_Step_1.ipynb",
      "provenance": [],
      "collapsed_sections": []
    },
    "kernelspec": {
      "name": "python3",
      "display_name": "Python 3"
    },
    "language_info": {
      "name": "python"
    },
    "accelerator": "GPU"
  },
  "cells": [
    {
      "cell_type": "markdown",
      "metadata": {
        "id": "4SDQIUua4pDP"
      },
      "source": [
        "#Task 2 for MIDAS Summer Internship"
      ]
    },
    {
      "cell_type": "markdown",
      "metadata": {
        "id": "llI2vhkKN_Lx"
      },
      "source": [
        "# First Step"
      ]
    },
    {
      "cell_type": "markdown",
      "metadata": {
        "id": "cvI1xpQu4xtY"
      },
      "source": [
        "## Importing the Necessary Libraries"
      ]
    },
    {
      "cell_type": "code",
      "metadata": {
        "id": "vEcNKUY5FA82"
      },
      "source": [
        "from keras.preprocessing.image import load_img\n",
        "import matplotlib.pyplot as plt\n",
        "from keras.preprocessing.image import img_to_array\n",
        "from keras.preprocessing.image import array_to_img\n",
        "import cv2\n",
        "import os.path\n",
        "from os import path\n",
        "import numpy as np\n",
        "from keras.utils import to_categorical\n",
        "from sklearn.model_selection import train_test_split\n",
        "from keras.preprocessing import image\n",
        "from PIL import Image\n",
        "import matplotlib.pyplot as plt\n",
        "from keras.layers import Conv2D,Flatten, Dense, Dropout, BatchNormalization, LeakyReLU, MaxPool2D , Cropping2D\n",
        "from keras.optimizers import Adam\n",
        "from keras.models import Sequential\n",
        "from keras import regularizers\n",
        "from keras.optimizers import Adam\n",
        "import tensorflow as tf\n",
        "from tensorflow.keras.layers import Lambda\n",
        "from keras.preprocessing.image import ImageDataGenerator\n",
        "from keras.callbacks import ModelCheckpoint"
      ],
      "execution_count": null,
      "outputs": []
    },
    {
      "cell_type": "markdown",
      "metadata": {
        "id": "4cddwMBxCAQu"
      },
      "source": [
        "## Making Labels\n",
        "Since images were mapped to labels like 0 -> 0 , A -> 10 and so on . So we have made a function that returns the labels for it . Therefore, labels[0] = 0 , labels[11] = A and so on.  "
      ]
    },
    {
      "cell_type": "code",
      "metadata": {
        "id": "ConWYHfUD9Gb"
      },
      "source": [
        "def MakeLabels():\n",
        "  ## Making Labels if the output is from 0 to 9.\n",
        "  labels = dict()\n",
        "  for i in range(1,10):\n",
        "    labels[i-1] = i-1\n",
        "  labels[9] = 9\n",
        "  ## Making Labels if the output is from A to Z.\n",
        "  alpha_upperCase = \"A\"\n",
        "  val_upperCase = ord(alpha_upperCase)\n",
        "  for i in range(11,37):\n",
        "    labels[i-1] = chr(val_upperCase)\n",
        "    val_upperCase = val_upperCase + 1\n",
        "  ## Making Labels if the output is from a to z.\n",
        "  alpha_lowerCase = \"a\"\n",
        "  val_lowerCase = ord(alpha_lowerCase)\n",
        "  for i in range(37,63):\n",
        "    labels[i-1] = chr(val_lowerCase)\n",
        "    val_lowerCase = val_lowerCase + 1\n",
        "  ##Returning the Dictionary\n",
        "  return labels\n",
        "  \n",
        "\n"
      ],
      "execution_count": null,
      "outputs": []
    },
    {
      "cell_type": "code",
      "metadata": {
        "id": "f7vDE5Bb8dmg"
      },
      "source": [
        "def VisualizeTheOriginalDataset():\n",
        "  img = cv2.imread('/content/drive/MyDrive/MIDASTask/train/Sample001/img001-001.png')\n",
        "  # report details about the image\n",
        "  #img = cv2.cvtColor(img,cv2.COLOR_BGR2GRAY)\n",
        "  plt.imshow(img)\n"
      ],
      "execution_count": null,
      "outputs": []
    },
    {
      "cell_type": "markdown",
      "metadata": {
        "id": "jZNF1doxGEp7"
      },
      "source": [
        "## Pre-Processing Done on the Dataset .\n",
        "The images had a lot of white spaces and only a small percent of the images contained the numbers and alphabets . So we removed the background such that the majority of the image space was covered by numbers and alphabets .\n",
        "The <i>VisualiseTheDatasetAfterPreProcessing()</i> function shows how the image will look like after doing the above mentioned steps. \n",
        "<br>\n",
        "Sources:\n",
        "[How to remove whitespace from an image in OpenCV?](https://stackoverflow.com/questions/49907382/how-to-remove-whitespace-from-an-image-in-opencv)"
      ]
    },
    {
      "cell_type": "code",
      "metadata": {
        "id": "gKNEUJNWJGst"
      },
      "source": [
        "def VisualiseTheDatasetAfterPreProcessing():\n",
        "  img=cv2.imread('/content/drive/MyDrive/MIDASTask/train/Sample001/img001-001.png')\n",
        "  gray=cv2.cvtColor(img,cv2.COLOR_BGR2GRAY)\n",
        "  gray=255*(gray<128)\n",
        "  coords=cv2.findNonZero(gray)\n",
        "  x,y,w,h=cv2.boundingRect(coords)\n",
        "  img=img[y:y+h,x:x+w]\n",
        "  data = Image.fromarray(img)\n",
        "  data = data.resize((40,40))\n",
        "  plt.imshow(data)"
      ],
      "execution_count": null,
      "outputs": []
    },
    {
      "cell_type": "markdown",
      "metadata": {
        "id": "wYuDZXHQI9s8"
      },
      "source": [
        "## UploadingTheDataset\n",
        "In the function <i>UploadTheDataset()</i> , the dataset is loaded . The x list inside the function stores the image names whereas the y stores the labels . Atlast, y is converted into a numpy array and converted into the Categorical Value ."
      ]
    },
    {
      "cell_type": "code",
      "metadata": {
        "id": "IQ40m_aTCxtH"
      },
      "source": [
        "def UploadTheDataset():\n",
        "  x = []\n",
        "  y = []\n",
        "  for i in range(1,63):\n",
        "    path_prev = str('{:03}'.format(i));\n",
        "    for j in range(1,60):\n",
        "      path_rec = 'Sample'+path_prev+'/'+'img'+path_prev+'-'+str('{:03}'.format(j)) +'.png'\n",
        "      if path.exists(\"/content/drive/MyDrive/MIDASTask/train/\"+path_rec):\n",
        "        x.append(path_rec)\n",
        "        y.append(i-1);\n",
        "      else:\n",
        "        continue\n",
        "  y = np.array(y)\n",
        "  y = to_categorical(y,num_classes=62, dtype = 'int')\n",
        "  return x,y\n",
        "\n"
      ],
      "execution_count": null,
      "outputs": []
    },
    {
      "cell_type": "markdown",
      "metadata": {
        "id": "xvWgsyaVJo6k"
      },
      "source": [
        "## Split The Dataset\n",
        "The function <i>SplitTheDataset()</i> splits the dataset into x_train, x_valid, y_train and y_valid . "
      ]
    },
    {
      "cell_type": "code",
      "metadata": {
        "id": "FnkK3V6_UBXF"
      },
      "source": [
        "def SplitTheDataset():\n",
        "  x,y = UploadTheDataset()\n",
        "  x_train, x_valid, y_train, y_valid = train_test_split(x, y, test_size=0.2, random_state=0)\n",
        "  return x_train, x_valid, y_train, y_valid"
      ],
      "execution_count": null,
      "outputs": []
    },
    {
      "cell_type": "markdown",
      "metadata": {
        "id": "Jr6Z7ACLKHN7"
      },
      "source": [
        "## Upload The Image Array \n",
        "The function <i>UploadTheImageArrays()</i> does the following things:\n",
        "<ul>\n",
        "<li>Removes the part of the image which doesn't contain the alphabets/numbers . It was done as majority of the image contain blank spaces and wouldn't help in training the model .</li>\n",
        "<li>Then at last, the images were converted into Gray-Scale with size (40,40) .</li>\n",
        "</ul>  \n",
        "<br>\n"
      ]
    },
    {
      "cell_type": "code",
      "metadata": {
        "id": "svAt-lCbHvf7"
      },
      "source": [
        "def UploadTheImageArrays(x_img):\n",
        "  x_f = []\n",
        "  for i in range(0,len(x_img)):\n",
        "    img=cv2.imread('/content/drive/MyDrive/MIDASTask/train/'+x_img[i])\n",
        "    img1 = cv2.cvtColor(img,cv2.COLOR_BGR2GRAY)\n",
        "    gray = cv2.cvtColor(img,cv2.COLOR_BGR2GRAY)\n",
        "    gray = 255*(gray<128)\n",
        "    coords = cv2.findNonZero(gray)\n",
        "    x,y,w,h = cv2.boundingRect(coords)\n",
        "    img1=img1[y:y+h,x:x+w]\n",
        "    data = Image.fromarray(img1)\n",
        "    data = data.resize((40,40))\n",
        "    data = image.img_to_array(data)\n",
        "    x_f.append(data/255.0)\n",
        "  x_final = np.array(x_f)\n",
        "  return x_final"
      ],
      "execution_count": null,
      "outputs": []
    },
    {
      "cell_type": "markdown",
      "metadata": {
        "id": "7umrk5TfLSS6"
      },
      "source": [
        "## Visualising the Original Data "
      ]
    },
    {
      "cell_type": "code",
      "metadata": {
        "colab": {
          "base_uri": "https://localhost:8080/",
          "height": 269
        },
        "id": "udYEtiTXIcD7",
        "outputId": "e5bea87e-c1e5-49a4-d80d-a45c00ff1e88"
      },
      "source": [
        "VisualizeTheOriginalDataset()"
      ],
      "execution_count": null,
      "outputs": [
        {
          "output_type": "display_data",
          "data": {
            "image/png": "[encoded data removed]",
            "text/plain": [
              "<Figure size 432x288 with 1 Axes>"
            ]
          },
          "metadata": {
            "tags": [],
            "needs_background": "light"
          }
        }
      ]
    },
    {
      "cell_type": "markdown",
      "metadata": {
        "id": "S3qdLGuzLXkz"
      },
      "source": [
        "## Visualising the pre-processed Data.\n",
        "<b>The image is not converted into Grayscale but is is converted before putting into the model . </b>"
      ]
    },
    {
      "cell_type": "code",
      "metadata": {
        "colab": {
          "base_uri": "https://localhost:8080/",
          "height": 267
        },
        "id": "MSQNQyzfJV5f",
        "outputId": "4cc2f427-b7a9-43ab-a978-e1c2cd6521ae"
      },
      "source": [
        "VisualiseTheDatasetAfterPreProcessing()"
      ],
      "execution_count": null,
      "outputs": [
        {
          "output_type": "display_data",
          "data": {
            "image/png": "[encoded data removed]",
            "text/plain": [
              "<Figure size 432x288 with 1 Axes>"
            ]
          },
          "metadata": {
            "tags": [],
            "needs_background": "light"
          }
        }
      ]
    },
    {
      "cell_type": "markdown",
      "metadata": {
        "id": "Frl8eiaBMKwb"
      },
      "source": [
        "## In the subsequent cells , the functions which were explained above have been executed ."
      ]
    },
    {
      "cell_type": "code",
      "metadata": {
        "colab": {
          "base_uri": "https://localhost:8080/"
        },
        "id": "8Re0DpaiJq0D",
        "outputId": "074852dd-73f7-4b2a-df07-a6626c7f3f33"
      },
      "source": [
        "labels = MakeLabels()\n",
        "for k,v in labels.items():\n",
        "  print(k,v)"
      ],
      "execution_count": null,
      "outputs": [
        {
          "output_type": "stream",
          "text": [
            "0 0\n",
            "1 1\n",
            "2 2\n",
            "3 3\n",
            "4 4\n",
            "5 5\n",
            "6 6\n",
            "7 7\n",
            "8 8\n",
            "9 9\n",
            "10 A\n",
            "11 B\n",
            "12 C\n",
            "13 D\n",
            "14 E\n",
            "15 F\n",
            "16 G\n",
            "17 H\n",
            "18 I\n",
            "19 J\n",
            "20 K\n",
            "21 L\n",
            "22 M\n",
            "23 N\n",
            "24 O\n",
            "25 P\n",
            "26 Q\n",
            "27 R\n",
            "28 S\n",
            "29 T\n",
            "30 U\n",
            "31 V\n",
            "32 W\n",
            "33 X\n",
            "34 Y\n",
            "35 Z\n",
            "36 a\n",
            "37 b\n",
            "38 c\n",
            "39 d\n",
            "40 e\n",
            "41 f\n",
            "42 g\n",
            "43 h\n",
            "44 i\n",
            "45 j\n",
            "46 k\n",
            "47 l\n",
            "48 m\n",
            "49 n\n",
            "50 o\n",
            "51 p\n",
            "52 q\n",
            "53 r\n",
            "54 s\n",
            "55 t\n",
            "56 u\n",
            "57 v\n",
            "58 w\n",
            "59 x\n",
            "60 y\n",
            "61 z\n"
          ],
          "name": "stdout"
        }
      ]
    },
    {
      "cell_type": "code",
      "metadata": {
        "colab": {
          "base_uri": "https://localhost:8080/"
        },
        "id": "anIIEZxRJ2eT",
        "outputId": "7e22f642-2a7c-4b9c-cfba-8190039d3710"
      },
      "source": [
        "x_train,x_valid,y_train,y_valid = SplitTheDataset()\n",
        "print(len(x_train), len(x_valid),y_train.shape,y_valid.shape)"
      ],
      "execution_count": null,
      "outputs": [
        {
          "output_type": "stream",
          "text": [
            "1984 496 (1984, 62) (496, 62)\n"
          ],
          "name": "stdout"
        }
      ]
    },
    {
      "cell_type": "code",
      "metadata": {
        "colab": {
          "base_uri": "https://localhost:8080/"
        },
        "id": "_YhFk9ELK0_K",
        "outputId": "56970fde-994c-4c1b-a4dc-693800af6d9a"
      },
      "source": [
        "x_train_final = UploadTheImageArrays(x_train)\n",
        "print(x_train_final.shape)"
      ],
      "execution_count": null,
      "outputs": [
        {
          "output_type": "stream",
          "text": [
            "(1984, 40, 40, 1)\n"
          ],
          "name": "stdout"
        }
      ]
    },
    {
      "cell_type": "code",
      "metadata": {
        "colab": {
          "base_uri": "https://localhost:8080/"
        },
        "id": "W6tVOc0dLC7v",
        "outputId": "994b643f-cf79-40e0-b89a-431f13f74ea0"
      },
      "source": [
        "x_valid_final = UploadTheImageArrays(x_valid)\n",
        "print(x_valid_final.shape)"
      ],
      "execution_count": null,
      "outputs": [
        {
          "output_type": "stream",
          "text": [
            "(496, 40, 40, 1)\n"
          ],
          "name": "stdout"
        }
      ]
    },
    {
      "cell_type": "markdown",
      "metadata": {
        "id": "NTxxAgz7UTGu"
      },
      "source": [
        "## Model Architecture\n"
      ]
    },
    {
      "cell_type": "markdown",
      "metadata": {
        "id": "H-hxnjoNMZla"
      },
      "source": [
        "The model consists of 3 Conv Layers and then two fully connected layers . The Architecture is :\n",
        "<ul>\n",
        "<li>Conv2d - 16 filters, 3x3 Filter Size , activation = relu</li>\n",
        "<li>BatchNormalization()</li>\n",
        "<li>MaxPooling of 2 x 2</li>\n",
        "<br>\n",
        "<li>Conv2d - 16 filters, 3x3 Filter Size , activation = relu</li>\n",
        "<li>BatchNormalization()</li>\n",
        "<li>MaxPooling of 2 x 2</li>\n",
        "<br>\n",
        "<li>Conv2d - 32 filters, 5x5 Filter Size , activation = relu</li>\n",
        "<li>BatchNormalization()</li>\n",
        "<br>\n",
        "<li>Then the model is flattened.</li>\n",
        "<br>\n",
        "<li>Dense Layer - 128 Neurons, activation = relu </li>\n",
        "<br>\n",
        "<li>Dense Layer - 62 Neurons, activation = softmax </li>\n",
        "</ul>\n",
        "\n",
        "This model was working well as it had optimal amout of parameters and was properly fitting on the dataset .\n",
        "<br>\n",
        "Sources :\n",
        "[Analyzing different types of activation functions in neural networks — which one to prefer?](https://towardsdatascience.com/analyzing-different-types-of-activation-functions-in-neural-networks-which-one-to-prefer-e11649256209#:~:text=Softmax%20activation%20function&text=For%20a%20binary%20classification%20problem,a%20type%20of%20sigmoid%20function.)\n",
        "<br>\n",
        "[Glossary of Deep Learning: Batch Normalisation](https://medium.com/deeper-learning/glossary-of-deep-learning-batch-normalisation-8266dcd2fa82#:~:text=Using%20batch%20normalisation%20allows%20much,to%20the%20initial%20starting%20weights.)\n",
        "\n"
      ]
    },
    {
      "cell_type": "code",
      "metadata": {
        "id": "JKQeV5gi6pcw"
      },
      "source": [
        "model = Sequential()\n",
        "model.add(Conv2D(16,(3,3),activation='relu',input_shape = (40,40,1)))\n",
        "model.add(BatchNormalization())\n",
        "model.add(MaxPool2D(2,2))\n",
        "\n",
        "model.add(Conv2D(16,(3,3),activation='relu'))\n",
        "model.add(BatchNormalization())\n",
        "model.add(MaxPool2D(2,2))\n",
        "\n",
        "model.add(Conv2D(32,(5,5),activation='relu'))\n",
        "model.add(BatchNormalization())\n",
        "\n",
        "model.add(Flatten())\n",
        "model.add(Dense(128,activation =\"relu\"))\n",
        "model.add(Dense(62,activation =\"softmax\"))\n"
      ],
      "execution_count": null,
      "outputs": []
    },
    {
      "cell_type": "code",
      "metadata": {
        "colab": {
          "base_uri": "https://localhost:8080/"
        },
        "id": "KW5zKxis6qqa",
        "outputId": "fc6ec30f-c979-48c3-a595-5f1e1dc9e5be"
      },
      "source": [
        "model.summary()"
      ],
      "execution_count": null,
      "outputs": [
        {
          "output_type": "stream",
          "text": [
            "Model: \"sequential_1\"\n",
            "_________________________________________________________________\n",
            "Layer (type)                 Output Shape              Param #   \n",
            "=================================================================\n",
            "conv2d_3 (Conv2D)            (None, 38, 38, 16)        160       \n",
            "_________________________________________________________________\n",
            "batch_normalization_3 (Batch (None, 38, 38, 16)        64        \n",
            "_________________________________________________________________\n",
            "max_pooling2d_2 (MaxPooling2 (None, 19, 19, 16)        0         \n",
            "_________________________________________________________________\n",
            "conv2d_4 (Conv2D)            (None, 17, 17, 16)        2320      \n",
            "_________________________________________________________________\n",
            "batch_normalization_4 (Batch (None, 17, 17, 16)        64        \n",
            "_________________________________________________________________\n",
            "max_pooling2d_3 (MaxPooling2 (None, 8, 8, 16)          0         \n",
            "_________________________________________________________________\n",
            "conv2d_5 (Conv2D)            (None, 4, 4, 32)          12832     \n",
            "_________________________________________________________________\n",
            "batch_normalization_5 (Batch (None, 4, 4, 32)          128       \n",
            "_________________________________________________________________\n",
            "flatten_1 (Flatten)          (None, 512)               0         \n",
            "_________________________________________________________________\n",
            "dense_2 (Dense)              (None, 128)               65664     \n",
            "_________________________________________________________________\n",
            "dense_3 (Dense)              (None, 62)                7998      \n",
            "=================================================================\n",
            "Total params: 89,230\n",
            "Trainable params: 89,102\n",
            "Non-trainable params: 128\n",
            "_________________________________________________________________\n"
          ],
          "name": "stdout"
        }
      ]
    },
    {
      "cell_type": "code",
      "metadata": {
        "id": "5Z0QAL896w4s"
      },
      "source": [
        "model.compile(optimizer='adam', loss = 'categorical_crossentropy', metrics = ['accuracy'])"
      ],
      "execution_count": null,
      "outputs": []
    },
    {
      "cell_type": "code",
      "metadata": {
        "id": "ewk6GbnqSjbr"
      },
      "source": [
        "path_model = 'First_Step_Model.epoch{epoch:02d}-loss{val_loss:.2f}.hdf5'\n",
        "checkpoint = ModelCheckpoint(filepath='/content/drive/MyDrive/MIDASTask/FirstModel/'+path_model, \n",
        "                             monitor = 'val_loss',\n",
        "                             verbose=1, \n",
        "                             save_best_only=False,\n",
        "                             mode= 'min')"
      ],
      "execution_count": null,
      "outputs": []
    },
    {
      "cell_type": "code",
      "metadata": {
        "colab": {
          "base_uri": "https://localhost:8080/"
        },
        "id": "bAndk6PLGXix",
        "outputId": "c21c30f6-c568-4820-87e8-ee93b522a923"
      },
      "source": [
        "from keras.preprocessing.image import ImageDataGenerator\n",
        "dataAugmentaion = ImageDataGenerator(rotation_range = 30, height_shift_range=0.1)\n",
        "\n",
        "callbacks = [checkpoint]\n",
        "history = model.fit(dataAugmentaion.flow(x_train_final, y_train, batch_size = 32),\n",
        " validation_data = (x_valid_final, y_valid), steps_per_epoch = len(x_train) // 32,\n",
        " epochs = 15, callbacks=callbacks)"
      ],
      "execution_count": null,
      "outputs": [
        {
          "output_type": "stream",
          "text": [
            "Epoch 1/15\n",
            "62/62 [==============================] - 1s 14ms/step - loss: 4.1140 - accuracy: 0.0726 - val_loss: 4.0561 - val_accuracy: 0.0383\n",
            "\n",
            "Epoch 00001: saving model to /content/drive/MyDrive/MIDASTask/FirstModel/First_Step_Model.epoch01-loss4.06.hdf5\n",
            "Epoch 2/15\n",
            "62/62 [==============================] - 1s 12ms/step - loss: 2.3726 - accuracy: 0.3753 - val_loss: 4.6835 - val_accuracy: 0.0323\n",
            "\n",
            "Epoch 00002: saving model to /content/drive/MyDrive/MIDASTask/FirstModel/First_Step_Model.epoch02-loss4.68.hdf5\n",
            "Epoch 3/15\n",
            "62/62 [==============================] - 1s 12ms/step - loss: 1.6120 - accuracy: 0.5408 - val_loss: 5.8111 - val_accuracy: 0.0343\n",
            "\n",
            "Epoch 00003: saving model to /content/drive/MyDrive/MIDASTask/FirstModel/First_Step_Model.epoch03-loss5.81.hdf5\n",
            "Epoch 4/15\n",
            "62/62 [==============================] - 1s 12ms/step - loss: 1.3305 - accuracy: 0.6011 - val_loss: 5.3882 - val_accuracy: 0.0645\n",
            "\n",
            "Epoch 00004: saving model to /content/drive/MyDrive/MIDASTask/FirstModel/First_Step_Model.epoch04-loss5.39.hdf5\n",
            "Epoch 5/15\n",
            "62/62 [==============================] - 1s 11ms/step - loss: 1.0906 - accuracy: 0.6695 - val_loss: 4.5343 - val_accuracy: 0.0927\n",
            "\n",
            "Epoch 00005: saving model to /content/drive/MyDrive/MIDASTask/FirstModel/First_Step_Model.epoch05-loss4.53.hdf5\n",
            "Epoch 6/15\n",
            "62/62 [==============================] - 1s 11ms/step - loss: 0.9448 - accuracy: 0.7152 - val_loss: 3.9764 - val_accuracy: 0.1190\n",
            "\n",
            "Epoch 00006: saving model to /content/drive/MyDrive/MIDASTask/FirstModel/First_Step_Model.epoch06-loss3.98.hdf5\n",
            "Epoch 7/15\n",
            "62/62 [==============================] - 1s 12ms/step - loss: 0.9236 - accuracy: 0.7092 - val_loss: 2.0343 - val_accuracy: 0.4355\n",
            "\n",
            "Epoch 00007: saving model to /content/drive/MyDrive/MIDASTask/FirstModel/First_Step_Model.epoch07-loss2.03.hdf5\n",
            "Epoch 8/15\n",
            "62/62 [==============================] - 1s 12ms/step - loss: 0.8015 - accuracy: 0.7390 - val_loss: 1.1392 - val_accuracy: 0.6552\n",
            "\n",
            "Epoch 00008: saving model to /content/drive/MyDrive/MIDASTask/FirstModel/First_Step_Model.epoch08-loss1.14.hdf5\n",
            "Epoch 9/15\n",
            "62/62 [==============================] - 1s 11ms/step - loss: 0.7038 - accuracy: 0.7814 - val_loss: 0.8565 - val_accuracy: 0.7177\n",
            "\n",
            "Epoch 00009: saving model to /content/drive/MyDrive/MIDASTask/FirstModel/First_Step_Model.epoch09-loss0.86.hdf5\n",
            "Epoch 10/15\n",
            "62/62 [==============================] - 1s 12ms/step - loss: 0.7121 - accuracy: 0.7675 - val_loss: 0.6852 - val_accuracy: 0.7782\n",
            "\n",
            "Epoch 00010: saving model to /content/drive/MyDrive/MIDASTask/FirstModel/First_Step_Model.epoch10-loss0.69.hdf5\n",
            "Epoch 11/15\n",
            "62/62 [==============================] - 1s 12ms/step - loss: 0.6779 - accuracy: 0.7819 - val_loss: 0.7167 - val_accuracy: 0.7863\n",
            "\n",
            "Epoch 00011: saving model to /content/drive/MyDrive/MIDASTask/FirstModel/First_Step_Model.epoch11-loss0.72.hdf5\n",
            "Epoch 12/15\n",
            "62/62 [==============================] - 1s 11ms/step - loss: 0.5941 - accuracy: 0.8075 - val_loss: 0.8045 - val_accuracy: 0.7399\n",
            "\n",
            "Epoch 00012: saving model to /content/drive/MyDrive/MIDASTask/FirstModel/First_Step_Model.epoch12-loss0.80.hdf5\n",
            "Epoch 13/15\n",
            "62/62 [==============================] - 1s 12ms/step - loss: 0.5501 - accuracy: 0.8035 - val_loss: 1.0798 - val_accuracy: 0.6875\n",
            "\n",
            "Epoch 00013: saving model to /content/drive/MyDrive/MIDASTask/FirstModel/First_Step_Model.epoch13-loss1.08.hdf5\n",
            "Epoch 14/15\n",
            "62/62 [==============================] - 1s 12ms/step - loss: 0.5590 - accuracy: 0.8072 - val_loss: 0.9260 - val_accuracy: 0.7177\n",
            "\n",
            "Epoch 00014: saving model to /content/drive/MyDrive/MIDASTask/FirstModel/First_Step_Model.epoch14-loss0.93.hdf5\n",
            "Epoch 15/15\n",
            "62/62 [==============================] - 1s 11ms/step - loss: 0.5352 - accuracy: 0.8360 - val_loss: 0.8663 - val_accuracy: 0.7440\n",
            "\n",
            "Epoch 00015: saving model to /content/drive/MyDrive/MIDASTask/FirstModel/First_Step_Model.epoch15-loss0.87.hdf5\n"
          ],
          "name": "stdout"
        }
      ]
    },
    {
      "cell_type": "markdown",
      "metadata": {
        "id": "LTqYmyE3J6NZ"
      },
      "source": [
        "## Graphical Representaton of Loss and Accuracy of Train and Validation Set\n",
        "While plotting the Loss and Accuracy curve , we come to know that the the training and the validation accuracy is almost the same for epochs 9 to 11 . Therefore, the model is suffering from high bias before epoch 9 and from slight high variance after epoch 12 . Hence the model has fitted well in the 11th Epoch with Training Accuracy as 78.19% and Validation Accuracy 78.63% ."
      ]
    },
    {
      "cell_type": "code",
      "metadata": {
        "colab": {
          "base_uri": "https://localhost:8080/",
          "height": 295
        },
        "id": "gDVQ4z7gO8AA",
        "outputId": "247a906b-d3b8-41e3-bf22-7e010032addb"
      },
      "source": [
        "loss_train = history.history['loss']\n",
        "loss_val = history.history['val_loss']\n",
        "epochs = range(1,16)\n",
        "plt.plot(epochs, loss_train, 'g', label='Training loss')\n",
        "plt.plot(epochs, loss_val, 'b', label='validation loss')\n",
        "plt.title('Training and Validation loss')\n",
        "plt.xlabel('Epochs')\n",
        "plt.ylabel('Loss')\n",
        "plt.legend()\n",
        "plt.show()"
      ],
      "execution_count": null,
      "outputs": [
        {
          "output_type": "display_data",
          "data": {
            "image/png": "[encoded data removed]",
            "text/plain": [
              "<Figure size 432x288 with 1 Axes>"
            ]
          },
          "metadata": {
            "tags": [],
            "needs_background": "light"
          }
        }
      ]
    },
    {
      "cell_type": "code",
      "metadata": {
        "colab": {
          "base_uri": "https://localhost:8080/",
          "height": 295
        },
        "id": "XhAZzkDlPNhW",
        "outputId": "f4b7654a-587e-476e-eef7-29e775eb5c8f"
      },
      "source": [
        "loss_train = history.history['accuracy']\n",
        "loss_val = history.history['val_accuracy']\n",
        "epochs = range(1,16)\n",
        "plt.plot(epochs, loss_train, 'g', label='Training accuracy')\n",
        "plt.plot(epochs, loss_val, 'b', label='validation accuracy')\n",
        "plt.title('Training and Validation accuracy')\n",
        "plt.xlabel('Epochs')\n",
        "plt.ylabel('Accuracy')\n",
        "plt.legend()\n",
        "plt.show()"
      ],
      "execution_count": null,
      "outputs": [
        {
          "output_type": "display_data",
          "data": {
            "image/png": "[encoded data removed]",
            "text/plain": [
              "<Figure size 432x288 with 1 Axes>"
            ]
          },
          "metadata": {
            "tags": [],
            "needs_background": "light"
          }
        }
      ]
    },
    {
      "cell_type": "markdown",
      "metadata": {
        "id": "zlXdgjwIUFD1"
      },
      "source": [
        "## How to test the Model ?\n",
        "<ul>\n",
        "  <li> Preprocess the images according to the <i>UploadTheImageArrays(), <b>the function takes in a list of image paths.</b> </b>\n",
        "  </i> </li>\n",
        "  <li>Then pass it to the model . "
      ]
    }
  ]
}