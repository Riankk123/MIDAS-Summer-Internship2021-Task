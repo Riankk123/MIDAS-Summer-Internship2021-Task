{
  "nbformat": 4,
  "nbformat_minor": 0,
  "metadata": {
    "colab": {
      "name": "MIDAS_Task_2_Step_3.ipynb",
      "provenance": [],
      "collapsed_sections": [
        "CDPvVpwypvpE",
        "C3p3ivQHtWbh",
        "3xGKcuXr2Dto",
        "9gDTiFLBvDNH",
        "rU3SbYmmvqHk",
        "kHMBn_1_v-bk",
        "FJg842qnQhBZ",
        "g8yS_KpCQ4qO",
        "mf3mu3HIRQ5P",
        "RN6aXfgzTroo"
      ],
      "toc_visible": true
    },
    "kernelspec": {
      "name": "python3",
      "display_name": "Python 3"
    },
    "language_info": {
      "name": "python"
    }
  },
  "cells": [
    {
      "cell_type": "markdown",
      "metadata": {
        "id": "0JbcA7wlhgFh"
      },
      "source": [
        "# Task 2 for MIDAS Summer Internship"
      ]
    },
    {
      "cell_type": "markdown",
      "metadata": {
        "id": "cUXlY_NJhgWw"
      },
      "source": [
        "# Third Step"
      ]
    },
    {
      "cell_type": "markdown",
      "metadata": {
        "id": "DSh5YEdW1S7R"
      },
      "source": [
        "## Unzipping the Dataset"
      ]
    },
    {
      "cell_type": "code",
      "metadata": {
        "id": "x8y6Y8yg1SdX"
      },
      "source": [
        "!unzip \"/content/drive/MyDrive/MIDASTask/mnistTask3.zip\""
      ],
      "execution_count": null,
      "outputs": []
    },
    {
      "cell_type": "markdown",
      "metadata": {
        "id": "yZw1Txwph5hw"
      },
      "source": [
        "## Importing the Necessary Libraries"
      ]
    },
    {
      "cell_type": "code",
      "metadata": {
        "colab": {
          "base_uri": "https://localhost:8080/"
        },
        "id": "DUUfV_5siQqC",
        "outputId": "8c86fa53-b9ac-430f-b6fd-b61ab74b374c"
      },
      "source": [
        "pip install idx2numpy"
      ],
      "execution_count": null,
      "outputs": [
        {
          "output_type": "stream",
          "text": [
            "Collecting idx2numpy\n",
            "  Downloading https://files.pythonhosted.org/packages/7e/6b/80628f6cc2f44d80b27f1ef7b57b257ed4c73766113b77d13ad110c091b4/idx2numpy-1.2.3.tar.gz\n",
            "Requirement already satisfied: numpy in /usr/local/lib/python3.7/dist-packages (from idx2numpy) (1.19.5)\n",
            "Requirement already satisfied: six in /usr/local/lib/python3.7/dist-packages (from idx2numpy) (1.15.0)\n",
            "Building wheels for collected packages: idx2numpy\n",
            "  Building wheel for idx2numpy (setup.py) ... \u001b[?25l\u001b[?25hdone\n",
            "  Created wheel for idx2numpy: filename=idx2numpy-1.2.3-cp37-none-any.whl size=7907 sha256=8c8ff1ea6461bf94f99ac13b7e7c493aa7c2be4d25599fef90582496290c9e23\n",
            "  Stored in directory: /root/.cache/pip/wheels/7a/c1/da/284ce80a748fab898b8d1fa95468a386e7cf3b81da18511f9d\n",
            "Successfully built idx2numpy\n",
            "Installing collected packages: idx2numpy\n",
            "Successfully installed idx2numpy-1.2.3\n"
          ],
          "name": "stdout"
        }
      ]
    },
    {
      "cell_type": "code",
      "metadata": {
        "id": "Rakvad3Wh-jJ"
      },
      "source": [
        "import cv2\n",
        "import os\n",
        "from keras.preprocessing import image\n",
        "from PIL import Image\n",
        "import matplotlib.pyplot as plt\n",
        "import numpy as np\n",
        "from keras.utils import to_categorical\n",
        "from sklearn.utils import shuffle\n",
        "from sklearn.model_selection import train_test_split\n",
        "from keras.layers import Conv2D,Flatten, Dense, Dropout, BatchNormalization, LeakyReLU, MaxPool2D , Cropping2D\n",
        "from keras.optimizers import Adam\n",
        "from keras.models import Sequential\n",
        "from keras import regularizers\n",
        "from keras.optimizers import Adam\n",
        "import tensorflow as tf\n",
        "from tensorflow.keras.layers import Lambda\n",
        "import idx2numpy\n",
        "from keras.callbacks import ModelCheckpoint\n",
        "from sklearn.metrics import precision_score\n",
        "from sklearn.metrics import recall_score"
      ],
      "execution_count": null,
      "outputs": []
    },
    {
      "cell_type": "markdown",
      "metadata": {
        "id": "2O5c8UY6k5uk"
      },
      "source": [
        "## Loading The Dataset\n",
        "The Image Arrays and Labels are being loaded . The images are converted to grayscale and then resized to 40 x 40 . After that , the pixel values are divided by 255.0 ."
      ]
    },
    {
      "cell_type": "code",
      "metadata": {
        "id": "DPQQUO7vmumE"
      },
      "source": [
        "def LoadDataset():\n",
        "  x_t = []\n",
        "  y_t = []\n",
        "  sample_path = \"/content/mnistTask/\"\n",
        "  for i in range(0,10):\n",
        "    folder = sample_path + str(i)\n",
        "    images = []\n",
        "    for filename in os.listdir(folder):\n",
        "      img = cv2.imread(os.path.join(folder,filename))\n",
        "      img1 = cv2.cvtColor(img,cv2.COLOR_BGR2GRAY)\n",
        "      data = Image.fromarray(img1)\n",
        "      data = data.resize((40,40))\n",
        "      data = image.img_to_array(data)\n",
        "      x_t.append(data/255.0)\n",
        "      y_t.append(i)\n",
        "  x_t = np.array(x_t)\n",
        "  y_t = np.array(y_t)\n",
        "  return x_t,y_t"
      ],
      "execution_count": null,
      "outputs": []
    },
    {
      "cell_type": "markdown",
      "metadata": {
        "id": "48K3FW9KlRh5"
      },
      "source": [
        "## Converting Into Categorical\n",
        "The y labels are converted into Categorical values . "
      ]
    },
    {
      "cell_type": "code",
      "metadata": {
        "id": "eJYpnnoMjBPp"
      },
      "source": [
        "def ConvertToCategorical(y_):\n",
        "  y_t = to_categorical(y_,num_classes=10, dtype = 'int')\n",
        "  return y_t"
      ],
      "execution_count": null,
      "outputs": []
    },
    {
      "cell_type": "markdown",
      "metadata": {
        "id": "r2R1vKxqlX41"
      },
      "source": [
        "## Splitting the Dataset\n",
        "The dataset is being split into training and validation set"
      ]
    },
    {
      "cell_type": "code",
      "metadata": {
        "id": "UDVRzFs6kJmI"
      },
      "source": [
        "def SplitDatasetIntoTrainAndValidationSet(x_t,y_t):\n",
        "  x_train, x_valid, y_train, y_valid = train_test_split(x_t, y_t, test_size=0.2, random_state=0)\n",
        "  return x_train, x_valid, y_train, y_valid\n"
      ],
      "execution_count": null,
      "outputs": []
    },
    {
      "cell_type": "markdown",
      "metadata": {
        "id": "DvAc4qzllfE-"
      },
      "source": [
        "The following cells contains the execution of the functions mentioned above ."
      ]
    },
    {
      "cell_type": "code",
      "metadata": {
        "id": "uF8khZtpjP7R"
      },
      "source": [
        "x_t , y_t = LoadDataset()"
      ],
      "execution_count": null,
      "outputs": []
    },
    {
      "cell_type": "code",
      "metadata": {
        "id": "pOg7DZjTjTqn"
      },
      "source": [
        "y_t = ConvertToCategorical(y_t)"
      ],
      "execution_count": null,
      "outputs": []
    },
    {
      "cell_type": "code",
      "metadata": {
        "id": "OYetJwFJqEfz",
        "colab": {
          "base_uri": "https://localhost:8080/"
        },
        "outputId": "a5714d6a-71b4-4702-c5ea-7a5a1c53f9ef"
      },
      "source": [
        "x_train, x_valid, y_train, y_valid = SplitDatasetIntoTrainAndValidationSet(x_t,y_t)\n",
        "print(x_train.shape, y_train.shape, x_valid.shape, y_valid.shape)\n"
      ],
      "execution_count": null,
      "outputs": [
        {
          "output_type": "stream",
          "text": [
            "(48000, 40, 40, 1) (48000, 10) (12000, 40, 40, 1) (12000, 10)\n"
          ],
          "name": "stdout"
        }
      ]
    },
    {
      "cell_type": "markdown",
      "metadata": {
        "id": "CDPvVpwypvpE"
      },
      "source": [
        "## Model Randomly initialised and then Trained"
      ]
    },
    {
      "cell_type": "code",
      "metadata": {
        "id": "cFG_0dwsp5rk"
      },
      "source": [
        "model_random = Sequential()\n",
        "model_random.add(Conv2D(16,(3,3),activation='relu',input_shape = (40,40,1)))\n",
        "model_random.add(BatchNormalization())\n",
        "model_random.add(MaxPool2D(2,2))\n",
        "\n",
        "model_random.add(Conv2D(16,(3,3),activation='relu'))\n",
        "model_random.add(BatchNormalization())\n",
        "model_random.add(MaxPool2D(2,2))\n",
        "\n",
        "model_random.add(Conv2D(32,(5,5),activation='relu'))\n",
        "model_random.add(BatchNormalization())\n",
        "\n",
        "model_random.add(Flatten())\n",
        "model_random.add(Dense(128,activation =\"relu\"))\n",
        "model_random.add(Dense(10,activation =\"softmax\"))"
      ],
      "execution_count": null,
      "outputs": []
    },
    {
      "cell_type": "code",
      "metadata": {
        "colab": {
          "base_uri": "https://localhost:8080/"
        },
        "id": "WWzRW6sEp8Cv",
        "outputId": "7469a88e-9fc9-4de0-bcc5-4cc3b6dd52ae"
      },
      "source": [
        "model_random.summary()"
      ],
      "execution_count": null,
      "outputs": [
        {
          "output_type": "stream",
          "text": [
            "Model: \"sequential\"\n",
            "_________________________________________________________________\n",
            "Layer (type)                 Output Shape              Param #   \n",
            "=================================================================\n",
            "conv2d (Conv2D)              (None, 38, 38, 16)        160       \n",
            "_________________________________________________________________\n",
            "batch_normalization (BatchNo (None, 38, 38, 16)        64        \n",
            "_________________________________________________________________\n",
            "max_pooling2d (MaxPooling2D) (None, 19, 19, 16)        0         \n",
            "_________________________________________________________________\n",
            "conv2d_1 (Conv2D)            (None, 17, 17, 16)        2320      \n",
            "_________________________________________________________________\n",
            "batch_normalization_1 (Batch (None, 17, 17, 16)        64        \n",
            "_________________________________________________________________\n",
            "max_pooling2d_1 (MaxPooling2 (None, 8, 8, 16)          0         \n",
            "_________________________________________________________________\n",
            "conv2d_2 (Conv2D)            (None, 4, 4, 32)          12832     \n",
            "_________________________________________________________________\n",
            "batch_normalization_2 (Batch (None, 4, 4, 32)          128       \n",
            "_________________________________________________________________\n",
            "flatten (Flatten)            (None, 512)               0         \n",
            "_________________________________________________________________\n",
            "dense (Dense)                (None, 128)               65664     \n",
            "_________________________________________________________________\n",
            "dense_1 (Dense)              (None, 10)                1290      \n",
            "=================================================================\n",
            "Total params: 82,522\n",
            "Trainable params: 82,394\n",
            "Non-trainable params: 128\n",
            "_________________________________________________________________\n"
          ],
          "name": "stdout"
        }
      ]
    },
    {
      "cell_type": "code",
      "metadata": {
        "id": "oCupvJKdp9aQ"
      },
      "source": [
        "model_random.compile(optimizer='adam', loss = 'categorical_crossentropy', metrics = ['accuracy'])"
      ],
      "execution_count": null,
      "outputs": []
    },
    {
      "cell_type": "code",
      "metadata": {
        "id": "l2IKtlL9m-an"
      },
      "source": [
        "path_model = 'Third_Step_Model_Random.epoch{epoch:02d}-loss{val_loss:.2f}.hdf5'\n",
        "checkpoint = ModelCheckpoint(filepath='/content/drive/MyDrive/MIDASTask/ThirdModelRandom/'+path_model, \n",
        "                             monitor = 'val_loss',\n",
        "                             verbose=1, \n",
        "                             save_best_only=False,\n",
        "                             mode= 'min')"
      ],
      "execution_count": null,
      "outputs": []
    },
    {
      "cell_type": "code",
      "metadata": {
        "id": "7vsnbqEEnVGq"
      },
      "source": [
        "callbacks = [checkpoint]"
      ],
      "execution_count": null,
      "outputs": []
    },
    {
      "cell_type": "code",
      "metadata": {
        "colab": {
          "base_uri": "https://localhost:8080/"
        },
        "id": "DpsPfnU9qAeE",
        "outputId": "8386b9d5-f15b-4bc9-8fd9-b01507466922"
      },
      "source": [
        "history_random = model_random.fit(x_train, y_train, batch_size = 512, epochs = 10,verbose = 2,validation_data = (x_valid, y_valid) , callbacks = callbacks)"
      ],
      "execution_count": null,
      "outputs": [
        {
          "output_type": "stream",
          "text": [
            "Epoch 1/10\n",
            "94/94 - 48s - loss: 2.3300 - accuracy: 0.1093 - val_loss: 2.3191 - val_accuracy: 0.1042\n",
            "\n",
            "Epoch 00001: saving model to /content/drive/MyDrive/MIDASTask/ThirdModelRandom/Third_Step_Model_Random.epoch01-loss2.32.hdf5\n",
            "Epoch 2/10\n",
            "94/94 - 47s - loss: 2.2582 - accuracy: 0.1208 - val_loss: 2.3413 - val_accuracy: 0.1054\n",
            "\n",
            "Epoch 00002: saving model to /content/drive/MyDrive/MIDASTask/ThirdModelRandom/Third_Step_Model_Random.epoch02-loss2.34.hdf5\n",
            "Epoch 3/10\n",
            "94/94 - 47s - loss: 2.2381 - accuracy: 0.1296 - val_loss: 2.3165 - val_accuracy: 0.1101\n",
            "\n",
            "Epoch 00003: saving model to /content/drive/MyDrive/MIDASTask/ThirdModelRandom/Third_Step_Model_Random.epoch03-loss2.32.hdf5\n",
            "Epoch 4/10\n",
            "94/94 - 47s - loss: 2.2231 - accuracy: 0.1350 - val_loss: 2.2894 - val_accuracy: 0.1125\n",
            "\n",
            "Epoch 00004: saving model to /content/drive/MyDrive/MIDASTask/ThirdModelRandom/Third_Step_Model_Random.epoch04-loss2.29.hdf5\n",
            "Epoch 5/10\n",
            "94/94 - 47s - loss: 2.2073 - accuracy: 0.1468 - val_loss: 2.2816 - val_accuracy: 0.1075\n",
            "\n",
            "Epoch 00005: saving model to /content/drive/MyDrive/MIDASTask/ThirdModelRandom/Third_Step_Model_Random.epoch05-loss2.28.hdf5\n",
            "Epoch 6/10\n",
            "94/94 - 47s - loss: 2.1925 - accuracy: 0.1546 - val_loss: 2.2690 - val_accuracy: 0.1163\n",
            "\n",
            "Epoch 00006: saving model to /content/drive/MyDrive/MIDASTask/ThirdModelRandom/Third_Step_Model_Random.epoch06-loss2.27.hdf5\n",
            "Epoch 7/10\n",
            "94/94 - 47s - loss: 2.1744 - accuracy: 0.1656 - val_loss: 2.2596 - val_accuracy: 0.1112\n",
            "\n",
            "Epoch 00007: saving model to /content/drive/MyDrive/MIDASTask/ThirdModelRandom/Third_Step_Model_Random.epoch07-loss2.26.hdf5\n",
            "Epoch 8/10\n",
            "94/94 - 47s - loss: 2.1538 - accuracy: 0.1766 - val_loss: 2.2759 - val_accuracy: 0.1114\n",
            "\n",
            "Epoch 00008: saving model to /content/drive/MyDrive/MIDASTask/ThirdModelRandom/Third_Step_Model_Random.epoch08-loss2.28.hdf5\n",
            "Epoch 9/10\n",
            "94/94 - 47s - loss: 2.1328 - accuracy: 0.1897 - val_loss: 2.2924 - val_accuracy: 0.1108\n",
            "\n",
            "Epoch 00009: saving model to /content/drive/MyDrive/MIDASTask/ThirdModelRandom/Third_Step_Model_Random.epoch09-loss2.29.hdf5\n",
            "Epoch 10/10\n",
            "94/94 - 47s - loss: 2.1090 - accuracy: 0.2047 - val_loss: 2.3048 - val_accuracy: 0.1112\n",
            "\n",
            "Epoch 00010: saving model to /content/drive/MyDrive/MIDASTask/ThirdModelRandom/Third_Step_Model_Random.epoch10-loss2.30.hdf5\n"
          ],
          "name": "stdout"
        }
      ]
    },
    {
      "cell_type": "markdown",
      "metadata": {
        "id": "C3p3ivQHtWbh"
      },
      "source": [
        "## Loading Pre-Trained Model . "
      ]
    },
    {
      "cell_type": "code",
      "metadata": {
        "id": "FBAtg3swtOYn"
      },
      "source": [
        "loaded_model = tf.keras.models.load_model('/content/drive/MyDrive/MIDASTask/FirstModel/First_Step_Model.epoch11-loss0.72.hdf5')"
      ],
      "execution_count": null,
      "outputs": []
    },
    {
      "cell_type": "code",
      "metadata": {
        "id": "xev4Y1qEtfTu"
      },
      "source": [
        "loaded_model.pop()"
      ],
      "execution_count": null,
      "outputs": []
    },
    {
      "cell_type": "code",
      "metadata": {
        "id": "ajBhCy1qthPw"
      },
      "source": [
        "model_pretrain = Sequential()\n",
        "model_pretrain.add(loaded_model)\n",
        "model_pretrain.add(Dense(10,activation = 'softmax'))"
      ],
      "execution_count": null,
      "outputs": []
    },
    {
      "cell_type": "code",
      "metadata": {
        "colab": {
          "base_uri": "https://localhost:8080/"
        },
        "id": "t4OcoHJFtnDk",
        "outputId": "4548ec3d-80bc-49e4-874d-cd0340b336be"
      },
      "source": [
        "model_pretrain.summary()"
      ],
      "execution_count": null,
      "outputs": [
        {
          "output_type": "stream",
          "text": [
            "Model: \"sequential_2\"\n",
            "_________________________________________________________________\n",
            "Layer (type)                 Output Shape              Param #   \n",
            "=================================================================\n",
            "sequential_1 (Sequential)    (None, 128)               81232     \n",
            "_________________________________________________________________\n",
            "dense_3 (Dense)              (None, 10)                1290      \n",
            "=================================================================\n",
            "Total params: 82,522\n",
            "Trainable params: 82,394\n",
            "Non-trainable params: 128\n",
            "_________________________________________________________________\n"
          ],
          "name": "stdout"
        }
      ]
    },
    {
      "cell_type": "code",
      "metadata": {
        "id": "WmbTtsZctpk8"
      },
      "source": [
        "model_pretrain.compile(optimizer='adam', loss = 'categorical_crossentropy', metrics = ['accuracy'])"
      ],
      "execution_count": null,
      "outputs": []
    },
    {
      "cell_type": "code",
      "metadata": {
        "id": "eU8fmBx7rYpB"
      },
      "source": [
        "path_model = 'Third_Step_Model_PreTrained.epoch{epoch:02d}-loss{val_loss:.2f}.hdf5'\n",
        "checkpoint = ModelCheckpoint(filepath='/content/drive/MyDrive/MIDASTask/ThirdModelPreTrained/'+path_model, \n",
        "                             monitor = 'val_loss',\n",
        "                             verbose=1, \n",
        "                             save_best_only=False,\n",
        "                             mode= 'min')"
      ],
      "execution_count": null,
      "outputs": []
    },
    {
      "cell_type": "code",
      "metadata": {
        "id": "PvuiIFlLrvWM"
      },
      "source": [
        "callbacks = [checkpoint]"
      ],
      "execution_count": null,
      "outputs": []
    },
    {
      "cell_type": "code",
      "metadata": {
        "colab": {
          "base_uri": "https://localhost:8080/"
        },
        "id": "J4ps7dWlsmeH",
        "outputId": "08fb695a-98cd-4390-9107-27c7cf0be90e"
      },
      "source": [
        "history_pretrain = model_pretrain.fit(x_train, y_train, batch_size = 512, epochs = 10,verbose = 2,validation_data = (x_valid, y_valid), callbacks = callbacks )"
      ],
      "execution_count": null,
      "outputs": [
        {
          "output_type": "stream",
          "text": [
            "Epoch 1/10\n",
            "94/94 - 48s - loss: 2.4376 - accuracy: 0.1102 - val_loss: 2.3801 - val_accuracy: 0.1102\n",
            "\n",
            "Epoch 00001: saving model to /content/drive/MyDrive/MIDASTask/ThirdModelPreTrained/Third_Step_Model_PreTrained.epoch01-loss2.38.hdf5\n",
            "Epoch 2/10\n",
            "94/94 - 47s - loss: 2.2688 - accuracy: 0.1223 - val_loss: 2.3006 - val_accuracy: 0.1093\n",
            "\n",
            "Epoch 00002: saving model to /content/drive/MyDrive/MIDASTask/ThirdModelPreTrained/Third_Step_Model_PreTrained.epoch02-loss2.30.hdf5\n",
            "Epoch 3/10\n",
            "94/94 - 47s - loss: 2.2456 - accuracy: 0.1305 - val_loss: 2.2834 - val_accuracy: 0.1095\n",
            "\n",
            "Epoch 00003: saving model to /content/drive/MyDrive/MIDASTask/ThirdModelPreTrained/Third_Step_Model_PreTrained.epoch03-loss2.28.hdf5\n",
            "Epoch 4/10\n",
            "94/94 - 47s - loss: 2.2297 - accuracy: 0.1382 - val_loss: 2.2656 - val_accuracy: 0.1116\n",
            "\n",
            "Epoch 00004: saving model to /content/drive/MyDrive/MIDASTask/ThirdModelPreTrained/Third_Step_Model_PreTrained.epoch04-loss2.27.hdf5\n",
            "Epoch 5/10\n",
            "94/94 - 47s - loss: 2.2169 - accuracy: 0.1440 - val_loss: 2.2634 - val_accuracy: 0.1096\n",
            "\n",
            "Epoch 00005: saving model to /content/drive/MyDrive/MIDASTask/ThirdModelPreTrained/Third_Step_Model_PreTrained.epoch05-loss2.26.hdf5\n",
            "Epoch 6/10\n",
            "94/94 - 47s - loss: 2.2029 - accuracy: 0.1535 - val_loss: 2.2677 - val_accuracy: 0.1107\n",
            "\n",
            "Epoch 00006: saving model to /content/drive/MyDrive/MIDASTask/ThirdModelPreTrained/Third_Step_Model_PreTrained.epoch06-loss2.27.hdf5\n",
            "Epoch 7/10\n",
            "94/94 - 47s - loss: 2.1909 - accuracy: 0.1585 - val_loss: 2.2754 - val_accuracy: 0.1146\n",
            "\n",
            "Epoch 00007: saving model to /content/drive/MyDrive/MIDASTask/ThirdModelPreTrained/Third_Step_Model_PreTrained.epoch07-loss2.28.hdf5\n",
            "Epoch 8/10\n",
            "94/94 - 47s - loss: 2.1800 - accuracy: 0.1634 - val_loss: 2.2718 - val_accuracy: 0.1105\n",
            "\n",
            "Epoch 00008: saving model to /content/drive/MyDrive/MIDASTask/ThirdModelPreTrained/Third_Step_Model_PreTrained.epoch08-loss2.27.hdf5\n",
            "Epoch 9/10\n",
            "94/94 - 47s - loss: 2.1671 - accuracy: 0.1740 - val_loss: 2.2748 - val_accuracy: 0.1123\n",
            "\n",
            "Epoch 00009: saving model to /content/drive/MyDrive/MIDASTask/ThirdModelPreTrained/Third_Step_Model_PreTrained.epoch09-loss2.27.hdf5\n",
            "Epoch 10/10\n",
            "94/94 - 47s - loss: 2.1544 - accuracy: 0.1825 - val_loss: 2.2846 - val_accuracy: 0.1138\n",
            "\n",
            "Epoch 00010: saving model to /content/drive/MyDrive/MIDASTask/ThirdModelPreTrained/Third_Step_Model_PreTrained.epoch10-loss2.28.hdf5\n"
          ],
          "name": "stdout"
        }
      ]
    },
    {
      "cell_type": "markdown",
      "metadata": {
        "id": "3xGKcuXr2Dto"
      },
      "source": [
        "## Graphical Representaton of Loss and Accuracy of Train and Validation Set For PreTrained Model\n",
        "\n"
      ]
    },
    {
      "cell_type": "code",
      "metadata": {
        "colab": {
          "base_uri": "https://localhost:8080/",
          "height": 295
        },
        "id": "n5fOTFJn2LQC",
        "outputId": "59b1404a-a139-4cf4-f24d-204efda9c62a"
      },
      "source": [
        "loss_train = history_pretrain.history['loss']\n",
        "loss_val = history_pretrain.history['val_loss']\n",
        "epochs = range(1,11)\n",
        "plt.plot(epochs, loss_train, 'g', label='Training loss')\n",
        "plt.plot(epochs, loss_val, 'b', label='validation loss')\n",
        "plt.title('Training and Validation loss')\n",
        "plt.xlabel('Epochs')\n",
        "plt.ylabel('Loss')\n",
        "plt.legend()\n",
        "plt.show()"
      ],
      "execution_count": null,
      "outputs": [
        {
          "output_type": "display_data",
          "data": {
            "image/png": "[encoded data removed]",
            "text/plain": [
              "<Figure size 432x288 with 1 Axes>"
            ]
          },
          "metadata": {
            "tags": [],
            "needs_background": "light"
          }
        }
      ]
    },
    {
      "cell_type": "code",
      "metadata": {
        "id": "WKGbj5232QcT",
        "colab": {
          "base_uri": "https://localhost:8080/",
          "height": 295
        },
        "outputId": "55aa0408-daaf-40a8-9a5e-5f68d8d098af"
      },
      "source": [
        "loss_train = history_pretrain.history['accuracy']\n",
        "loss_val = history_pretrain.history['val_accuracy']\n",
        "epochs = range(1,11)\n",
        "plt.plot(epochs, loss_train, 'g', label='Training accuracy')\n",
        "plt.plot(epochs, loss_val, 'b', label='validation accuracy')\n",
        "plt.title('Training and Validation accuracy')\n",
        "plt.xlabel('Epochs')\n",
        "plt.ylabel('Accuracy')\n",
        "plt.legend()\n",
        "plt.show()"
      ],
      "execution_count": null,
      "outputs": [
        {
          "output_type": "display_data",
          "data": {
            "image/png": "[encoded data removed]",
            "text/plain": [
              "<Figure size 432x288 with 1 Axes>"
            ]
          },
          "metadata": {
            "tags": [],
            "needs_background": "light"
          }
        }
      ]
    },
    {
      "cell_type": "markdown",
      "metadata": {
        "id": "9gDTiFLBvDNH"
      },
      "source": [
        "## Graphical Representaton of Loss and Accuracy of Train and Validation Set For RandomlyInitialised Model"
      ]
    },
    {
      "cell_type": "markdown",
      "metadata": {
        "id": "DzwGG8cw9CeB"
      },
      "source": [
        ""
      ]
    },
    {
      "cell_type": "code",
      "metadata": {
        "colab": {
          "base_uri": "https://localhost:8080/",
          "height": 295
        },
        "id": "6vyOMwxhvGok",
        "outputId": "02df098b-1d10-4bbe-f074-d5133fb1972c"
      },
      "source": [
        "loss_train = history_random.history['loss']\n",
        "loss_val = history_random.history['val_loss']\n",
        "epochs = range(1,11)\n",
        "plt.plot(epochs, loss_train, 'g', label='Training loss')\n",
        "plt.plot(epochs, loss_val, 'b', label='validation loss')\n",
        "plt.title('Training and Validation loss')\n",
        "plt.xlabel('Epochs')\n",
        "plt.ylabel('Loss')\n",
        "plt.legend()\n",
        "plt.show()"
      ],
      "execution_count": null,
      "outputs": [
        {
          "output_type": "display_data",
          "data": {
            "image/png": "[encoded data removed]",
            "text/plain": [
              "<Figure size 432x288 with 1 Axes>"
            ]
          },
          "metadata": {
            "tags": [],
            "needs_background": "light"
          }
        }
      ]
    },
    {
      "cell_type": "code",
      "metadata": {
        "colab": {
          "base_uri": "https://localhost:8080/",
          "height": 295
        },
        "id": "jz4J6UfRvKRP",
        "outputId": "93809b1e-f276-48c6-897a-18ab5e41a0ef"
      },
      "source": [
        "loss_train = history_random.history['accuracy']\n",
        "loss_val = history_random.history['val_accuracy']\n",
        "epochs = range(1,11)\n",
        "plt.plot(epochs, loss_train, 'g', label='Training accuracy')\n",
        "plt.plot(epochs, loss_val, 'b', label='validation accuracy')\n",
        "plt.title('Training and Validation accuracy')\n",
        "plt.xlabel('Epochs')\n",
        "plt.ylabel('Accuracy')\n",
        "plt.legend()\n",
        "plt.show()"
      ],
      "execution_count": null,
      "outputs": [
        {
          "output_type": "display_data",
          "data": {
            "image/png": "[encoded data removed]",
            "text/plain": [
              "<Figure size 432x288 with 1 Axes>"
            ]
          },
          "metadata": {
            "tags": [],
            "needs_background": "light"
          }
        }
      ]
    },
    {
      "cell_type": "markdown",
      "metadata": {
        "id": "rU3SbYmmvqHk"
      },
      "source": [
        "## Uploading the Test Data"
      ]
    },
    {
      "cell_type": "code",
      "metadata": {
        "id": "G9TwyelIxYM9"
      },
      "source": [
        "file = '/content/drive/MyDrive/MIDASTask/t10k-images-idx3-ubyte'\n",
        "x_te = idx2numpy.convert_from_file(file)"
      ],
      "execution_count": null,
      "outputs": []
    },
    {
      "cell_type": "code",
      "metadata": {
        "id": "ScRW5s542IWY"
      },
      "source": [
        "file = '/content/drive/MyDrive/MIDASTask/t10k-labels.idx1-ubyte'\n",
        "y_te = idx2numpy.convert_from_file(file)"
      ],
      "execution_count": null,
      "outputs": []
    },
    {
      "cell_type": "code",
      "metadata": {
        "colab": {
          "base_uri": "https://localhost:8080/"
        },
        "id": "xl1653dc2UVi",
        "outputId": "c22f3213-d52f-4a0d-a739-9171edda0d7c"
      },
      "source": [
        "x_te.shape"
      ],
      "execution_count": null,
      "outputs": [
        {
          "output_type": "execute_result",
          "data": {
            "text/plain": [
              "(10000, 28, 28)"
            ]
          },
          "metadata": {
            "tags": []
          },
          "execution_count": 7
        }
      ]
    },
    {
      "cell_type": "code",
      "metadata": {
        "colab": {
          "base_uri": "https://localhost:8080/"
        },
        "id": "C8FbtSH02dah",
        "outputId": "227cef1f-8dae-41a0-c603-0af84b09053a"
      },
      "source": [
        "y_te.shape"
      ],
      "execution_count": null,
      "outputs": [
        {
          "output_type": "execute_result",
          "data": {
            "text/plain": [
              "(10000,)"
            ]
          },
          "metadata": {
            "tags": []
          },
          "execution_count": 8
        }
      ]
    },
    {
      "cell_type": "code",
      "metadata": {
        "id": "mavbAacG2gjE"
      },
      "source": [
        "\n",
        "x_test = []\n",
        "for i in range(0,10000):\n",
        "  img = x_te[i]\n",
        "  res = cv2.resize(img, dsize=(40, 40), interpolation=cv2.INTER_CUBIC)\n",
        "  data = image.img_to_array(res)\n",
        "  x_test.append(data/255.0)"
      ],
      "execution_count": null,
      "outputs": []
    },
    {
      "cell_type": "code",
      "metadata": {
        "id": "7QUTP9aM2jQC"
      },
      "source": [
        "x_test_final = np.array(x_test)"
      ],
      "execution_count": null,
      "outputs": []
    },
    {
      "cell_type": "code",
      "metadata": {
        "id": "IwFnUs7C2kp2"
      },
      "source": [
        "y_te = np.array(y_te)\n"
      ],
      "execution_count": null,
      "outputs": []
    },
    {
      "cell_type": "code",
      "metadata": {
        "id": "iYd0MTqP2mY8"
      },
      "source": [
        "y_test = to_categorical(y_te,num_classes=10, dtype = 'int')"
      ],
      "execution_count": null,
      "outputs": []
    },
    {
      "cell_type": "code",
      "metadata": {
        "colab": {
          "base_uri": "https://localhost:8080/"
        },
        "id": "JhhLNFJg2nyH",
        "outputId": "7abb77dd-cea8-4185-c81b-b572931a604b"
      },
      "source": [
        "y_test.shape"
      ],
      "execution_count": null,
      "outputs": [
        {
          "output_type": "execute_result",
          "data": {
            "text/plain": [
              "(10000, 10)"
            ]
          },
          "metadata": {
            "tags": []
          },
          "execution_count": 13
        }
      ]
    },
    {
      "cell_type": "code",
      "metadata": {
        "id": "3_sVMMKb2pSg",
        "colab": {
          "base_uri": "https://localhost:8080/"
        },
        "outputId": "f6dbd1cf-b41c-4d01-e89f-58a2e831ab35"
      },
      "source": [
        "print(x_test_final.shape, y_test.shape)"
      ],
      "execution_count": null,
      "outputs": [
        {
          "output_type": "stream",
          "text": [
            "(10000, 40, 40, 1) (10000, 10)\n"
          ],
          "name": "stdout"
        }
      ]
    },
    {
      "cell_type": "markdown",
      "metadata": {
        "id": "kHMBn_1_v-bk"
      },
      "source": [
        "## Comparing the Accuracy of the last epoch model of PreTrain and Randomly Initialised Model "
      ]
    },
    {
      "cell_type": "code",
      "metadata": {
        "id": "m6gWWTDF3BBK"
      },
      "source": [
        "model_pretrain_loaded = tf.keras.models.load_model('/content/drive/MyDrive/MIDASTask/ThirdModelPreTrained/Third_Step_Model_PreTrained.epoch10-loss2.28.hdf5')"
      ],
      "execution_count": null,
      "outputs": []
    },
    {
      "cell_type": "code",
      "metadata": {
        "id": "QRbIcmqQwgn6"
      },
      "source": [
        "model_random_loaded = tf.keras.models.load_model('/content/drive/MyDrive/MIDASTask/ThirdModelRandom/Third_Step_Model_Random.epoch10-loss2.30.hdf5')"
      ],
      "execution_count": null,
      "outputs": []
    },
    {
      "cell_type": "code",
      "metadata": {
        "id": "jyvmIAWdzZS_"
      },
      "source": [
        "Score_PreTrain_LastEpoch = model_pretrain_loaded.evaluate(x_test_final,y_test,verbose = 0)"
      ],
      "execution_count": null,
      "outputs": []
    },
    {
      "cell_type": "code",
      "metadata": {
        "id": "GyTy3vFqzdXo"
      },
      "source": [
        "Score_Random_LastEpoch = model_random_loaded.evaluate(x_test_final,y_test,verbose=0)"
      ],
      "execution_count": null,
      "outputs": []
    },
    {
      "cell_type": "code",
      "metadata": {
        "colab": {
          "base_uri": "https://localhost:8080/"
        },
        "id": "qcTTXbl8zgJL",
        "outputId": "4edc6c6a-2c84-4767-b6e1-7b53f750fc3b"
      },
      "source": [
        "print(\"Accuracy of Last Epoch of Pre-Trained Models is :\", Score_PreTrain_LastEpoch[1])"
      ],
      "execution_count": null,
      "outputs": [
        {
          "output_type": "stream",
          "text": [
            "Accuracy of Last Epoch of Pre-Trained Models is : 0.0007999999797903001\n"
          ],
          "name": "stdout"
        }
      ]
    },
    {
      "cell_type": "code",
      "metadata": {
        "colab": {
          "base_uri": "https://localhost:8080/"
        },
        "id": "j_bApljxzi20",
        "outputId": "96db6fa2-4371-4bfb-a207-07825d56bfec"
      },
      "source": [
        "print(\"Accuracy of Last Epoch of Randomly Initialised Models is :\", Score_Random_LastEpoch[1])"
      ],
      "execution_count": null,
      "outputs": [
        {
          "output_type": "stream",
          "text": [
            "Accuracy of Last Epoch of Randomly Initialised Models is : 0.0012000000569969416\n"
          ],
          "name": "stdout"
        }
      ]
    },
    {
      "cell_type": "markdown",
      "metadata": {
        "id": "FJg842qnQhBZ"
      },
      "source": [
        "## Calculating the Precision and Recall of PreTrain Model"
      ]
    },
    {
      "cell_type": "code",
      "metadata": {
        "id": "xIblBPhqzljX"
      },
      "source": [
        "y_pred_pretrain = model_pretrain_loaded.predict(x_test_final)"
      ],
      "execution_count": null,
      "outputs": []
    },
    {
      "cell_type": "code",
      "metadata": {
        "id": "BlCvjOVeQo3E"
      },
      "source": [
        "y_pred_final_pretrain = np.zeros_like(y_pred_pretrain)\n",
        "y_pred_final_pretrain[np.arange(len(y_pred_pretrain)), y_pred_pretrain.argmax(1)] = 1\n",
        "y_pred_final_pretrain = y_pred_final_pretrain.astype(int)"
      ],
      "execution_count": null,
      "outputs": []
    },
    {
      "cell_type": "code",
      "metadata": {
        "id": "HfL5DZMNQrDB"
      },
      "source": [
        "precision_pretrain = precision_score(y_pred_final_pretrain, y_test,average = 'weighted')"
      ],
      "execution_count": null,
      "outputs": []
    },
    {
      "cell_type": "code",
      "metadata": {
        "colab": {
          "base_uri": "https://localhost:8080/"
        },
        "id": "krK5-FQZQsvz",
        "outputId": "fd802f3b-40d9-493b-d3c4-0a54b7c7039a"
      },
      "source": [
        "print(precision_pretrain)"
      ],
      "execution_count": null,
      "outputs": [
        {
          "output_type": "stream",
          "text": [
            "0.0009790434909767822\n"
          ],
          "name": "stdout"
        }
      ]
    },
    {
      "cell_type": "code",
      "metadata": {
        "id": "cbnoIHH0Qukx"
      },
      "source": [
        "recall_pretrain = recall_score(y_pred_final_pretrain, y_test,average = 'weighted')"
      ],
      "execution_count": null,
      "outputs": []
    },
    {
      "cell_type": "code",
      "metadata": {
        "colab": {
          "base_uri": "https://localhost:8080/"
        },
        "id": "nIbA4dIqQyAS",
        "outputId": "e765b329-ad83-4e07-a455-9e92bad232f1"
      },
      "source": [
        "print(recall_pretrain)"
      ],
      "execution_count": null,
      "outputs": [
        {
          "output_type": "stream",
          "text": [
            "0.0008\n"
          ],
          "name": "stdout"
        }
      ]
    },
    {
      "cell_type": "markdown",
      "metadata": {
        "id": "g8yS_KpCQ4qO"
      },
      "source": [
        "## Calculating the Precision and Recall of Randomly Initialised Model"
      ]
    },
    {
      "cell_type": "code",
      "metadata": {
        "id": "I0lXOSrOQ0FG"
      },
      "source": [
        "y_pred_random = model_random_loaded.predict(x_test_final)"
      ],
      "execution_count": null,
      "outputs": []
    },
    {
      "cell_type": "code",
      "metadata": {
        "id": "2wHGLk5zQ7Zt"
      },
      "source": [
        "y_pred_final_random = np.zeros_like(y_pred_random)\n",
        "y_pred_final_random[np.arange(len(y_pred_random)), y_pred_random.argmax(1)] = int(1)\n",
        "y_pred_final_random = y_pred_final_random.astype(int)"
      ],
      "execution_count": null,
      "outputs": []
    },
    {
      "cell_type": "code",
      "metadata": {
        "id": "9gJqFGuRQ_zu"
      },
      "source": [
        "precision_random = precision_score(y_pred_final_random, y_test, average = 'weighted')"
      ],
      "execution_count": null,
      "outputs": []
    },
    {
      "cell_type": "code",
      "metadata": {
        "colab": {
          "base_uri": "https://localhost:8080/"
        },
        "id": "qhyVxgCcRCVm",
        "outputId": "6e87395f-0922-418d-b405-8dc8d26f57aa"
      },
      "source": [
        "print(precision_random)"
      ],
      "execution_count": null,
      "outputs": [
        {
          "output_type": "stream",
          "text": [
            "0.0014090543714025219\n"
          ],
          "name": "stdout"
        }
      ]
    },
    {
      "cell_type": "code",
      "metadata": {
        "id": "UU6-eHhJRD29"
      },
      "source": [
        "recall_random = recall_score(y_pred_final_random, y_test, average = 'weighted')"
      ],
      "execution_count": null,
      "outputs": []
    },
    {
      "cell_type": "code",
      "metadata": {
        "colab": {
          "base_uri": "https://localhost:8080/"
        },
        "id": "BwJ5V4j7RFZV",
        "outputId": "cbfd9f28-7e24-4c47-9886-412c220e2a70"
      },
      "source": [
        "print(recall_random)"
      ],
      "execution_count": null,
      "outputs": [
        {
          "output_type": "stream",
          "text": [
            "0.0012\n"
          ],
          "name": "stdout"
        }
      ]
    },
    {
      "cell_type": "markdown",
      "metadata": {
        "id": "mf3mu3HIRQ5P"
      },
      "source": [
        "## Comparision between Pretrain and Randomly Initialised Model\n",
        "\n",
        "<table>\n",
        "  <tr>\n",
        "    <th>Evaluation Metric</th>\n",
        "    <th>Pre-Trained Model</th>\n",
        "    <th>Randomly Initialised Model</th>\n",
        "  </tr>\n",
        "  <tr>\n",
        "    <td>Accuracy</td>\n",
        "    <td>0.079%</td>\n",
        "    <td>0.12%</td>\n",
        "  </tr>\n",
        "  <tr>\n",
        "    <td>Precision (Average = Weighted) </td>\n",
        "    <td>0.097%</td>\n",
        "    <td>0.14%</td>\n",
        "  </tr>\n",
        "  <tr>\n",
        "    <td>Recall (Average = Weighted)</td>\n",
        "    <td>0.08%</td>\n",
        "    <td>0.12%</td>\n",
        "  </tr>\n",
        "</table>\n",
        "\n",
        "\n"
      ]
    },
    {
      "cell_type": "markdown",
      "metadata": {
        "id": "RN6aXfgzTroo"
      },
      "source": [
        "## Inference\n",
        "<ul>\n",
        "<li>The Accuracy of both the models were very low ,i.e., < 1% . It was because there was a lot of noise in the dataset. That means that , if the label was 0, there were very few images which was actually 0. Moreover, The test set contain images which were actually mapped with their correct labels. Therefore the model learnt on some different type of dataset and was tested on a different type of dataset .</li>\n",
        "<li>We have calculated the  Precision (Average = weighted) , which meant the precision was calculated by taking the precision of each class and then taking the average supported by weights . The precision of Randomly Initialised model was higher than Pre-Trained Model which meant that it could predict more number of positive identification which were actually correct . </li>\n",
        "<li>We have also calculated the  Recall (Average = weighted) , which meant the recall was calculated by taking the recall of each class and then taking the average supported by weights . The recall of Randomly Initialised model was also higher than Pre-Trained Model which meant that more number of actual positives were identified correctly . </li>\n",
        "<li>Atlast , what I have observed is that the Randomly Initialised Model performs slightly better than a Pre-Trained Model on a dataset with a very high amount of noise , provided the Pre-Trained was earlier trained on a different type of dataset .</li>"
      ]
    }
  ]
}